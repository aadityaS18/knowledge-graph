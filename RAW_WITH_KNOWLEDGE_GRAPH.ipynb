{
  "cells": [
    {
      "cell_type": "code",
      "execution_count": null,
      "metadata": {
        "colab": {
          "base_uri": "https://localhost:8080/"
        },
        "id": "FydXHlvKiY-N",
        "outputId": "fef67b14-e5c3-43b8-d413-5725feb1f8a2"
      },
      "outputs": [
        {
          "name": "stdout",
          "output_type": "stream",
          "text": [
            "  Preparing metadata (setup.py) ... \u001b[?25l\u001b[?25hdone\n",
            "\u001b[2K     \u001b[90m━━━━━━━━━━━━━━━━━━━━━━━━━━━━━━━━━━━━━━━━\u001b[0m \u001b[32m50.4/50.4 kB\u001b[0m \u001b[31m1.2 MB/s\u001b[0m eta \u001b[36m0:00:00\u001b[0m\n",
            "\u001b[2K   \u001b[90m━━━━━━━━━━━━━━━━━━━━━━━━━━━━━━━━━━━━━━━━\u001b[0m \u001b[32m990.3/990.3 kB\u001b[0m \u001b[31m7.9 MB/s\u001b[0m eta \u001b[36m0:00:00\u001b[0m\n",
            "\u001b[2K   \u001b[90m━━━━━━━━━━━━━━━━━━━━━━━━━━━━━━━━━━━━━━━━\u001b[0m \u001b[32m2.3/2.3 MB\u001b[0m \u001b[31m28.2 MB/s\u001b[0m eta \u001b[36m0:00:00\u001b[0m\n",
            "\u001b[2K   \u001b[90m━━━━━━━━━━━━━━━━━━━━━━━━━━━━━━━━━━━━━━━━\u001b[0m \u001b[32m46.7/46.7 kB\u001b[0m \u001b[31m2.6 MB/s\u001b[0m eta \u001b[36m0:00:00\u001b[0m\n",
            "\u001b[2K   \u001b[90m━━━━━━━━━━━━━━━━━━━━━━━━━━━━━━━━━━━━━━━━\u001b[0m \u001b[32m203.2/203.2 kB\u001b[0m \u001b[31m11.1 MB/s\u001b[0m eta \u001b[36m0:00:00\u001b[0m\n",
            "\u001b[2K   \u001b[90m━━━━━━━━━━━━━━━━━━━━━━━━━━━━━━━━━━━━━━━━\u001b[0m \u001b[32m293.5/293.5 kB\u001b[0m \u001b[31m16.2 MB/s\u001b[0m eta \u001b[36m0:00:00\u001b[0m\n",
            "\u001b[2K   \u001b[90m━━━━━━━━━━━━━━━━━━━━━━━━━━━━━━━━━━━━━━━━\u001b[0m \u001b[32m1.1/1.1 MB\u001b[0m \u001b[31m18.9 MB/s\u001b[0m eta \u001b[36m0:00:00\u001b[0m\n",
            "\u001b[2K   \u001b[90m━━━━━━━━━━━━━━━━━━━━━━━━━━━━━━━━━━━━━━━━\u001b[0m \u001b[32m15.5/15.5 MB\u001b[0m \u001b[31m30.1 MB/s\u001b[0m eta \u001b[36m0:00:00\u001b[0m\n",
            "\u001b[2K   \u001b[90m━━━━━━━━━━━━━━━━━━━━━━━━━━━━━━━━━━━━━━━━\u001b[0m \u001b[32m139.4/139.4 kB\u001b[0m \u001b[31m6.5 MB/s\u001b[0m eta \u001b[36m0:00:00\u001b[0m\n",
            "\u001b[2K   \u001b[90m━━━━━━━━━━━━━━━━━━━━━━━━━━━━━━━━━━━━━━━━\u001b[0m \u001b[32m374.2/374.2 kB\u001b[0m \u001b[31m19.3 MB/s\u001b[0m eta \u001b[36m0:00:00\u001b[0m\n",
            "\u001b[2K   \u001b[90m━━━━━━━━━━━━━━━━━━━━━━━━━━━━━━━━━━━━━━━━\u001b[0m \u001b[32m139.8/139.8 kB\u001b[0m \u001b[31m8.8 MB/s\u001b[0m eta \u001b[36m0:00:00\u001b[0m\n",
            "\u001b[2K   \u001b[90m━━━━━━━━━━━━━━━━━━━━━━━━━━━━━━━━━━━━━━━━\u001b[0m \u001b[32m337.0/337.0 kB\u001b[0m \u001b[31m16.3 MB/s\u001b[0m eta \u001b[36m0:00:00\u001b[0m\n",
            "\u001b[2K   \u001b[90m━━━━━━━━━━━━━━━━━━━━━━━━━━━━━━━━━━━━━━━━\u001b[0m \u001b[32m75.6/75.6 kB\u001b[0m \u001b[31m2.9 MB/s\u001b[0m eta \u001b[36m0:00:00\u001b[0m\n",
            "\u001b[2K   \u001b[90m━━━━━━━━━━━━━━━━━━━━━━━━━━━━━━━━━━━━━━━━\u001b[0m \u001b[32m77.9/77.9 kB\u001b[0m \u001b[31m4.4 MB/s\u001b[0m eta \u001b[36m0:00:00\u001b[0m\n",
            "\u001b[2K   \u001b[90m━━━━━━━━━━━━━━━━━━━━━━━━━━━━━━━━━━━━━━━━\u001b[0m \u001b[32m49.2/49.2 kB\u001b[0m \u001b[31m2.4 MB/s\u001b[0m eta \u001b[36m0:00:00\u001b[0m\n",
            "\u001b[2K   \u001b[90m━━━━━━━━━━━━━━━━━━━━━━━━━━━━━━━━━━━━━━━━\u001b[0m \u001b[32m141.1/141.1 kB\u001b[0m \u001b[31m7.0 MB/s\u001b[0m eta \u001b[36m0:00:00\u001b[0m\n",
            "\u001b[2K   \u001b[90m━━━━━━━━━━━━━━━━━━━━━━━━━━━━━━━━━━━━━━━━\u001b[0m \u001b[32m2.3/2.3 MB\u001b[0m \u001b[31m25.3 MB/s\u001b[0m eta \u001b[36m0:00:00\u001b[0m\n",
            "\u001b[2K   \u001b[90m━━━━━━━━━━━━━━━━━━━━━━━━━━━━━━━━━━━━━━━━\u001b[0m \u001b[32m1.6/1.6 MB\u001b[0m \u001b[31m19.8 MB/s\u001b[0m eta \u001b[36m0:00:00\u001b[0m\n",
            "\u001b[2K   \u001b[90m━━━━━━━━━━━━━━━━━━━━━━━━━━━━━━━━━━━━━━━━\u001b[0m \u001b[32m58.3/58.3 kB\u001b[0m \u001b[31m2.4 MB/s\u001b[0m eta \u001b[36m0:00:00\u001b[0m\n",
            "\u001b[?25h  Building wheel for wikipedia (setup.py) ... \u001b[?25l\u001b[?25hdone\n"
          ]
        }
      ],
      "source": [
        "%pip install  --upgrade --quiet langchain langchain-community langchain-openai langchain-experimental wikipedia neo4j tiktoken yfiles_jupyter_graphs"
      ]
    },
    {
      "cell_type": "code",
      "execution_count": null,
      "metadata": {
        "id": "zJrZQjvghrLZ"
      },
      "outputs": [],
      "source": [
        "from google.colab import userdata\n",
        "from langchain_community.vectorstores.neo4j_vector import remove_lucene_chars\n",
        "from langchain_experimental.graph_transformers import LLMGraphTransformer\n",
        "from langchain.text_splitter import TokenTextSplitter\n",
        "from yfiles_jupyter_graphs import GraphWidget\n",
        "from langchain_community.vectorstores import Neo4jVector\n",
        "from langchain_openai import OpenAIEmbeddings\n",
        "from neo4j import GraphDatabase\n",
        "from langchain_community.graphs import Neo4jGraph\n",
        "from langchain.document_loaders import WikipediaLoader\n",
        "from langchain_core.pydantic_v1 import BaseModel,Field\n",
        "from langchain.schema.runnable import RunnableBranch, RunnableLambda, RunnablePassthrough\n",
        "from langchain.prompts import PromptTemplate\n",
        "from langchain.schema import HumanMessage, AIMessage\n",
        "from langchain.chat_models import ChatOpenAI\n",
        "from langchain.schema.output_parser import StrOutputParser\n",
        "import os\n",
        "\n"
      ]
    },
    {
      "cell_type": "code",
      "execution_count": null,
      "metadata": {
        "id": "wWdm_UOLe54S"
      },
      "outputs": [],
      "source": [
        "os.environ[\"NEO4J_URI\"] = \"neo4j+s://fd919b29.databases.neo4j.io\"\n",
        "os.environ[\"NEO4J_USERNAME\"] = \"neo4j\"\n",
        "os.environ[\"NEO4J_PASSWORD\"] = \"nhn2RV52iGrQdn3MfYbhy80Jp_QrzUc3nuLb9XOB4TI\""
      ]
    },
    {
      "cell_type": "code",
      "execution_count": null,
      "metadata": {
        "colab": {
          "base_uri": "https://localhost:8080/"
        },
        "id": "bf8mOvKYk8Vg",
        "outputId": "a8139a0f-aff1-4a31-ffbd-fd52ef66621d"
      },
      "outputs": [
        {
          "name": "stderr",
          "output_type": "stream",
          "text": [
            "/usr/local/lib/python3.10/dist-packages/wikipedia/wikipedia.py:389: GuessedAtParserWarning: No parser was explicitly specified, so I'm using the best available HTML parser for this system (\"lxml\"). This usually isn't a problem, but if you run this code on another system, or in a different virtual environment, it may use a different parser and behave differently.\n",
            "\n",
            "The code that caused this warning is on line 389 of the file /usr/local/lib/python3.10/dist-packages/wikipedia/wikipedia.py. To get rid of this warning, pass the additional argument 'features=\"lxml\"' to the BeautifulSoup constructor.\n",
            "\n",
            "  lis = BeautifulSoup(html).find_all('li')\n"
          ]
        }
      ],
      "source": [
        "graph = Neo4jGraph(\n",
        "    url=os.environ.get(\"NEO4J_URI\"),\n",
        "    username=os.environ.get(\"NEO4J_USERNAME\"),\n",
        "    password=os.environ.get(\"NEO4J_PASSWORD\")\n",
        ")\n",
        "raw_documents = WikipediaLoader(query=\"Elizabeth I\").load()"
      ]
    },
    {
      "cell_type": "code",
      "execution_count": null,
      "metadata": {
        "colab": {
          "base_uri": "https://localhost:8080/"
        },
        "id": "N7F9ze4PsbAz",
        "outputId": "42312328-e3f3-40ae-f361-41a42458cbc0"
      },
      "outputs": [
        {
          "data": {
            "text/plain": [
              "23"
            ]
          },
          "execution_count": 7,
          "metadata": {},
          "output_type": "execute_result"
        }
      ],
      "source": [
        "len(raw_documents)"
      ]
    },
    {
      "cell_type": "code",
      "execution_count": null,
      "metadata": {
        "colab": {
          "base_uri": "https://localhost:8080/"
        },
        "id": "4cYXoGAJrpbU",
        "outputId": "285431b2-2f0d-4b10-d46e-a1a5a1bea2c8"
      },
      "outputs": [
        {
          "data": {
            "text/plain": [
              "[Document(metadata={'title': 'Elizabeth I', 'summary': 'Elizabeth I (7 September 1533 – 24 March 1603) was Queen of England and Ireland from 17 November 1558 until her death in 1603. She was the last monarch of the House of Tudor.\\nElizabeth was the only surviving child of Henry VIII and his second wife, Anne Boleyn. When Elizabeth was two years old, her parents\\' marriage was annulled, her mother was executed, and Elizabeth was declared illegitimate. Henry restored her to the line of succession when she was 10, via the Third Succession Act 1543. After Henry\\'s death in 1547, Elizabeth\\'s younger half-brother Edward VI ruled until his own death in 1553, bequeathing the crown to a Protestant cousin, Lady Jane Grey, and ignoring the claims of his two half-sisters, the Catholic Mary and the younger Elizabeth, in spite of statutes to the contrary. Edward\\'s will was set aside within weeks of his death and Mary became queen, deposing and executing Jane. During Mary\\'s reign, Elizabeth was imprisoned for nearly a year on suspicion of supporting Protestant rebels.\\nUpon her half-sister\\'s death in 1558, Elizabeth succeeded to the throne and set out to rule by good counsel. She depended heavily on a group of trusted advisers led by William Cecil, whom she created Baron Burghley. One of her first actions as queen was the establishment of an English Protestant church, of which she became the supreme governor. This era, later named the Elizabethan Religious Settlement, would evolve into the Church of England. It was expected that Elizabeth would marry and produce an heir; however, despite numerous courtships, she never did, and because of this she is sometimes referred to as the \"Virgin Queen\". She was eventually succeeded by her first cousin twice removed, James VI of Scotland, the son of Mary, Queen of Scots.\\nIn government, Elizabeth was more moderate than her father and siblings had been. One of her mottoes was video et taceo (\"I see and keep silent\"). In religion, she was relatively tolerant and avoided systematic persecution. After the pope declared her illegitimate in 1570, which in theory released English Catholics from allegiance to her, several conspiracies threatened her life, all of which were defeated with the help of her ministers\\' secret service, run by Sir Francis Walsingham. Elizabeth was cautious in foreign affairs, manoeuvring between the major powers of France and Spain. She half-heartedly supported a number of ineffective, poorly resourced military campaigns in the Netherlands, France, and Ireland. By the mid-1580s, England could no longer avoid war with Spain.\\nAs she grew older, Elizabeth became celebrated for her virginity. A cult of personality grew around her which was celebrated in the portraits, pageants, and literature of the day. Elizabeth\\'s reign became known as the Elizabethan era. The period is famous for the flourishing of English drama, led by playwrights such as William Shakespeare and Christopher Marlowe, the prowess of English maritime adventurers, such as Francis Drake and Walter Raleigh, and for the defeat of the Spanish Armada. Some historians depict Elizabeth as a short-tempered, sometimes indecisive ruler, who enjoyed more than her fair share of luck. Towards the end of her reign, a series of economic and military problems weakened her popularity. Elizabeth is acknowledged as a charismatic performer (\"Gloriana\") and a dogged survivor (\"Good Queen Bess\") in an era when government was ramshackle and limited, and when monarchs in neighbouring countries faced internal problems that jeopardised their thrones. After the short, disastrous reigns of her half-siblings, her 44 years on the throne provided welcome stability for the kingdom and helped to forge a sense of national identity.', 'source': 'https://en.wikipedia.org/wiki/Elizabeth_I'}, page_content='Elizabeth I (7 September 1533 – 24 March 1603) was Queen of England and Ireland from 17 November 1558 until her death in 1603. She was the last monarch of the House of Tudor.\\nElizabeth was the only surviving child of Henry VIII and his second wife, Anne Boleyn. When Elizabeth was two years old, her parents\\' marriage was annulled, her mother was executed, and Elizabeth was declared illegitimate. Henry restored her to the line of succession when she was 10, via the Third Succession Act 1543. After Henry\\'s death in 1547, Elizabeth\\'s younger half-brother Edward VI ruled until his own death in 1553, bequeathing the crown to a Protestant cousin, Lady Jane Grey, and ignoring the claims of his two half-sisters, the Catholic Mary and the younger Elizabeth, in spite of statutes to the contrary. Edward\\'s will was set aside within weeks of his death and Mary became queen, deposing and executing Jane. During Mary\\'s reign, Elizabeth was imprisoned for nearly a year on suspicion of supporting Protestant rebels.\\nUpon her half-sister\\'s death in 1558, Elizabeth succeeded to the throne and set out to rule by good counsel. She depended heavily on a group of trusted advisers led by William Cecil, whom she created Baron Burghley. One of her first actions as queen was the establishment of an English Protestant church, of which she became the supreme governor. This era, later named the Elizabethan Religious Settlement, would evolve into the Church of England. It was expected that Elizabeth would marry and produce an heir; however, despite numerous courtships, she never did, and because of this she is sometimes referred to as the \"Virgin Queen\". She was eventually succeeded by her first cousin twice removed, James VI of Scotland, the son of Mary, Queen of Scots.\\nIn government, Elizabeth was more moderate than her father and siblings had been. One of her mottoes was video et taceo (\"I see and keep silent\"). In religion, she was relatively tolerant and avoided systematic persecution. After the pope declared her illegitimate in 1570, which in theory released English Catholics from allegiance to her, several conspiracies threatened her life, all of which were defeated with the help of her ministers\\' secret service, run by Sir Francis Walsingham. Elizabeth was cautious in foreign affairs, manoeuvring between the major powers of France and Spain. She half-heartedly supported a number of ineffective, poorly resourced military campaigns in the Netherlands, France, and Ireland. By the mid-1580s, England could no longer avoid war with Spain.\\nAs she grew older, Elizabeth became celebrated for her virginity. A cult of personality grew around her which was celebrated in the portraits, pageants, and literature of the day. Elizabeth\\'s reign became known as the Elizabethan era. The period is famous for the flourishing of English drama, led by playwrights such as William Shakespeare and Christopher Marlowe, the prowess of English maritime adventurers, such as Francis Drake and Walter Raleigh, and for the defeat of the Spanish Armada. Some historians depict Elizabeth as a short-tempered, sometimes indecisive ruler, who enjoyed more than her fair share of luck. Towards the end of her reign, a series of economic and military problems weakened her popularity. Elizabeth is acknowledged as a charismatic performer (\"Gloriana\") and a dogged survivor (\"Good Queen Bess\") in an era when government was ramshackle and limited, and when monarchs in neighbouring countries faced internal problems that jeopardised their thrones. After the short, disastrous reigns of her half-siblings, her 44 years on the throne provided welcome stability for the kingdom and helped to forge a sense of national identity.\\n\\n\\n== Early life ==\\n\\nElizabeth was born at Greenwich Palace on 7 September 1533 and was named after her grandmothers, Elizabeth of York and Lady Elizabeth Howard. She was the second child of Henry VIII of England born in wedlock to survive infancy. Her mother was Henry\\'s second wife, Ann'),\n",
              " Document(metadata={'title': 'Portraiture of Elizabeth I', 'summary': 'The portraiture of Queen Elizabeth I (1533–1603) spans the evolution of English royal portraits in the early modern period (1400/1500-1800), from the earliest representations of simple likenesses to the later complex imagery used to convey the power and aspirations of the state, as well as of the monarch at its head.\\nEven the earliest portraits of Elizabeth I contain symbolic objects such as roses and prayer books that would have carried meaning to viewers of her day. Later portraits of Elizabeth layer the iconography of empire—globes, crowns, swords and columns—and representations of virginity and purity, such as moons and pearls, with classical allusions, to present a complex \"story\" that conveyed to Elizabethan era viewers the majesty and significance of the \\'Virgin Queen\\'.', 'source': 'https://en.wikipedia.org/wiki/Portraiture_of_Elizabeth_I'}, page_content='The portraiture of Queen Elizabeth I (1533–1603) spans the evolution of English royal portraits in the early modern period (1400/1500-1800), from the earliest representations of simple likenesses to the later complex imagery used to convey the power and aspirations of the state, as well as of the monarch at its head.\\nEven the earliest portraits of Elizabeth I contain symbolic objects such as roses and prayer books that would have carried meaning to viewers of her day. Later portraits of Elizabeth layer the iconography of empire—globes, crowns, swords and columns—and representations of virginity and purity, such as moons and pearls, with classical allusions, to present a complex \"story\" that conveyed to Elizabethan era viewers the majesty and significance of the \\'Virgin Queen\\'.\\n\\nTwo portraiture traditions had arisen in the Tudor court since the days of Elizabeth\\'s father, Henry VIII. The portrait miniature developed from the illuminated manuscript tradition. These small personal images were almost invariably painted from life over the space of a few days in watercolours on vellum, stiffened by being glued to a playing card. Panel paintings in oils on prepared wood surfaces were based on preparatory drawings and were usually executed at life size, as were oil paintings on canvas.\\nUnlike her contemporaries in France, Elizabeth never granted rights to produce her portrait to a single artist, although Nicholas Hilliard was appointed her official limner, or miniaturist and goldsmith. George Gower, a fashionable court portraitist created Serjeant Painter in 1581, was responsible for approving all portraits of the queen created by other artists from 1581 until his death in 1596.\\nElizabeth sat for a number of artists over the years, including Hilliard, Cornelis Ketel, Federico Zuccaro or Zuccari, Isaac Oliver, and most likely to Gower and Marcus Gheeraerts the Younger. Portraits were commissioned by the government as gifts to foreign monarchs and to show to prospective suitors. Courtiers commissioned heavily symbolic paintings to demonstrate their devotion to the queen, and the fashionable long galleries of later Elizabethan country houses were filled with sets of portraits. The studios of Tudor artists produced images of Elizabeth working from approved \"face patterns\", or approved drawings of the queen, to meet this growing demand for her image, an important symbol of loyalty and reverence for the crown in times of turbulence.\\n\\nBy far the most impressive models of portraiture available to English portraitists were the many portraits by Hans Holbein the Younger, the outstanding Northern portraitist of the first half of the 16th century, who had made two lengthy visits to England, and had been Henry VIII\\'s court artist. Holbein had accustomed the English court to the full-length life-size portrait, although none of his originals now survive. His great dynastic mural at Whitehall Palace, destroyed in 1698, and perhaps other original large portraits, would have been familiar to Elizabethan artists.\\nBoth Holbein and his great Italian contemporary Titian had combined great psychological penetration with a sufficiently majestic impression to satisfy their royal patrons. By his second visit, Holbein had already begun to move away from a strictly realist depiction; in his Jane Seymour, \"the figure is no longer seen as displacing with its bulk a recognizable section of space: it approaches rather to a flat pattern, made alive by a bounding and vital outline\". This tendency was to be taken much further by the later portraits of Elizabeth, where \"Likeness of feature and an interest in form and volume have gradually been abandoned in favour of an effect of splendid majesty obtained by decorative pattern, and the forms have been flattened accordingly\".\\n\\nTitian continued to paint royal portraits, especially of Philip II of Spain, until the 1570s, but in sharply reduced numbers after about 1555, and he refused to travel from Venice to do them. The fu'),\n",
              " Document(metadata={'title': 'Elizabeth of Russia', 'summary': \"Elizabeth or Elizaveta Petrovna (Russian: Елизаве́та Петро́вна; 29 December [O.S. 18 December] 1709 – 5 January [O.S. 25 December] 1762) was Empress of Russia from 1741 until her death in 1762. She remains one of the most popular Russian monarchs because of her decision not to execute a single person during her reign, her numerous construction projects, and her strong opposition to Prussian policies.\\nThe second-eldest daughter of Tsar Peter the Great (r.\\u20091682–1725), Elizabeth lived through the confused successions of her father's descendants following her half-brother Alexei's death in 1718. The throne first passed to her mother Catherine I of Russia (r.\\u20091725–1727), then to her nephew Peter II, who died in 1730 and was succeeded by Elizabeth's first cousin Anna (r.\\u20091730–1740). After the brief rule of Anna's infant great-nephew, Ivan VI, Elizabeth seized the throne with the military's support and declared her own nephew, the future Peter III, her heir.\\nDuring her reign Elizabeth continued the policies of her father and brought about a remarkable Age of Enlightenment in Russia. Her domestic policies allowed the nobles to gain dominance in local government while shortening their terms of service to the state. She encouraged Mikhail Lomonosov's foundation of the University of Moscow, the highest-ranking Russian educational institution. Her court became one of the most splendid in all Europe, especially regarding architecture: she modernised Russia's roads, encouraged Ivan Shuvalov's foundation of the Imperial Academy of Arts, and financed grandiose Baroque projects of her favourite architect, Bartolomeo Rastrelli, particularly in Peterhof Palace. The Winter Palace and the Smolny Cathedral in Saint Petersburg are among the chief monuments of her reign.\\nElizabeth led the Russian Empire during the two major European conflicts of her time: the War of Austrian Succession (1740–1748) and the Seven Years' War (1756–1763). She and diplomat Aleksey Bestuzhev-Ryumin solved the first event by forming an alliance with Austria and France, but indirectly caused the second. Russian troops enjoyed several victories against Prussia and briefly occupied Berlin, but when Frederick the Great was finally considering surrender in January 1762, the Russian Empress died. She was the last agnatic member of the House of Romanov to reign over the Russian Empire.\", 'source': 'https://en.wikipedia.org/wiki/Elizabeth_of_Russia'}, page_content='Elizabeth or Elizaveta Petrovna (Russian: Елизаве́та Петро́вна; 29 December [O.S. 18 December] 1709 – 5 January [O.S. 25 December] 1762) was Empress of Russia from 1741 until her death in 1762. She remains one of the most popular Russian monarchs because of her decision not to execute a single person during her reign, her numerous construction projects, and her strong opposition to Prussian policies.\\nThe second-eldest daughter of Tsar Peter the Great (r.\\u20091682–1725), Elizabeth lived through the confused successions of her father\\'s descendants following her half-brother Alexei\\'s death in 1718. The throne first passed to her mother Catherine I of Russia (r.\\u20091725–1727), then to her nephew Peter II, who died in 1730 and was succeeded by Elizabeth\\'s first cousin Anna (r.\\u20091730–1740). After the brief rule of Anna\\'s infant great-nephew, Ivan VI, Elizabeth seized the throne with the military\\'s support and declared her own nephew, the future Peter III, her heir.\\nDuring her reign Elizabeth continued the policies of her father and brought about a remarkable Age of Enlightenment in Russia. Her domestic policies allowed the nobles to gain dominance in local government while shortening their terms of service to the state. She encouraged Mikhail Lomonosov\\'s foundation of the University of Moscow, the highest-ranking Russian educational institution. Her court became one of the most splendid in all Europe, especially regarding architecture: she modernised Russia\\'s roads, encouraged Ivan Shuvalov\\'s foundation of the Imperial Academy of Arts, and financed grandiose Baroque projects of her favourite architect, Bartolomeo Rastrelli, particularly in Peterhof Palace. The Winter Palace and the Smolny Cathedral in Saint Petersburg are among the chief monuments of her reign.\\nElizabeth led the Russian Empire during the two major European conflicts of her time: the War of Austrian Succession (1740–1748) and the Seven Years\\' War (1756–1763). She and diplomat Aleksey Bestuzhev-Ryumin solved the first event by forming an alliance with Austria and France, but indirectly caused the second. Russian troops enjoyed several victories against Prussia and briefly occupied Berlin, but when Frederick the Great was finally considering surrender in January 1762, the Russian Empress died. She was the last agnatic member of the House of Romanov to reign over the Russian Empire.\\n\\nElizabeth was born at Kolomenskoye, near Moscow, Russia, on 18 December 1709 (O.S.). Her parents were Peter the Great, Tsar of Russia and Catherine. Catherine was the daughter of Samuel Skowroński, a subject of Grand Duchy of Lithuania. Although no documentary record exists, her parents were said to have married secretly at the Cathedral of the Holy Trinity in Saint Petersburg at some point between 23 October and 1 December 1707. Their official marriage was at Saint Isaac\\'s Cathedral in Saint Petersburg on 9 February 1712. On this day, the two children previously born to the couple (Anna and Elizabeth) were legitimised by their father and given the title of Tsarevna (\"princess\") on 6 March 1711. Of the twelve children born to Peter and Catherine (five sons and seven daughters), only the sisters survived to adulthood. They had one older surviving sibling, crown prince Alexei Petrovich, who was Peter\\'s son by his first wife, noblewoman Eudoxia Lopukhina.\\nAs a child, Elizabeth was the favourite of her father, whom she resembled both physically and temperamentally. Even though he adored his daughter, Peter did not devote time or attention to her education; having both a son and grandson from his first marriage to a noblewoman, he did not anticipate that a daughter born to his former maid might one day inherit the Russian throne, which had until that point never been occupied by a woman; as such, it was left to Catherine to raise the girls, a task met with considerable difficulty due to her own lack of education. Despite this, Elizabeth was still considered to be a bright girl, if not brilliant, and had')]"
            ]
          },
          "execution_count": 8,
          "metadata": {},
          "output_type": "execute_result"
        }
      ],
      "source": [
        "raw_documents[:3]"
      ]
    },
    {
      "cell_type": "code",
      "execution_count": null,
      "metadata": {
        "id": "CkZf-UeTrkZ9"
      },
      "outputs": [],
      "source": [
        "from langchain.text_splitter import TokenTextSplitter\n",
        "text_splitter=TokenTextSplitter(chunk_size=512,chunk_overlap=24)\n",
        "documents=text_splitter.split_documents(raw_documents[:3])"
      ]
    },
    {
      "cell_type": "code",
      "execution_count": null,
      "metadata": {
        "id": "LynBUoMSstR0"
      },
      "outputs": [],
      "source": [
        "from langchain_openai import ChatOpenAI\n",
        "llm = ChatOpenAI(temperature=0, model_name=\"gpt-3.5-turbo-0125\", )"
      ]
    },
    {
      "cell_type": "code",
      "execution_count": null,
      "metadata": {
        "id": "_SHs8aoTts-s"
      },
      "outputs": [],
      "source": [
        "from langchain_experimental.graph_transformers import LLMGraphTransformer\n",
        "llm_transformer=LLMGraphTransformer(llm=llm)"
      ]
    },
    {
      "cell_type": "markdown",
      "metadata": {
        "id": "MEisYRUivLik"
      },
      "source": [
        "# New Section"
      ]
    },
    {
      "cell_type": "code",
      "execution_count": null,
      "metadata": {
        "id": "_kFm-_dvu8du"
      },
      "outputs": [],
      "source": [
        "default_cypher=\"MATCH (s)-[r:!MENTIONS]->(t) RETURN s,r,t LIMIT 50\""
      ]
    },
    {
      "cell_type": "code",
      "execution_count": null,
      "metadata": {
        "id": "eAC-B5unyuRY"
      },
      "outputs": [],
      "source": [
        "from yfiles_jupyter_graphs import GraphWidget\n",
        "from neo4j import GraphDatabase"
      ]
    },
    {
      "cell_type": "code",
      "execution_count": null,
      "metadata": {
        "id": "ssqurebl0tnE"
      },
      "outputs": [],
      "source": [
        "try:\n",
        "  import google.colab\n",
        "  from google.colab import output\n",
        "  output.enable_custom_widget_manager()\n",
        "except:\n",
        "  pass"
      ]
    },
    {
      "cell_type": "code",
      "execution_count": null,
      "metadata": {
        "id": "LZRKX8wD1r74"
      },
      "outputs": [],
      "source": [
        "def showGraph(cypher: str=default_cypher):\n",
        "  driver=GraphDatabase.driver(\n",
        "      uri=os.environ[\"NEO4J_URI\"],\n",
        "      auth=(os.environ[\"NEO4J_USERNAME\"],\n",
        "            os.environ[\"NEO4J_PASSWORD\"]))\n",
        "  session=driver.session()\n",
        "  widget=GraphWidget(graph=session.run(cypher).graph())\n",
        "  widget.node_label_mapping=\"id\"\n",
        "  display(widget)\n",
        "  return widget\n",
        "\n"
      ]
    },
    {
      "cell_type": "code",
      "execution_count": null,
      "metadata": {
        "colab": {
          "base_uri": "https://localhost:8080/",
          "height": 1000,
          "referenced_widgets": [
            "9292355f2b3c45e593d62a74b3df824c",
            "e1451c146122460ca57738189a9b6e86"
          ]
        },
        "id": "8aC5n4xM1_2I",
        "outputId": "4c992581-a82c-4ab0-ed17-5d61f019c63a"
      },
      "outputs": [
        {
          "name": "stderr",
          "output_type": "stream",
          "text": [
            "WARNING:neo4j.notifications:Received notification from DBMS server: {severity: WARNING} {code: Neo.ClientNotification.Statement.UnknownRelationshipTypeWarning} {category: UNRECOGNIZED} {title: The provided relationship type is not in the database.} {description: One of the relationship types in your query is not available in the database, make sure you didn't misspell it or that the label is available when you run this statement in your application (the missing relationship type is: MENTIONS)} {position: line: 1, column: 15, offset: 14} for query: 'MATCH (s)-[r:!MENTIONS]->(t) RETURN s,r,t LIMIT 50'\n"
          ]
        },
        {
          "data": {
            "application/vnd.jupyter.widget-view+json": {
              "model_id": "9292355f2b3c45e593d62a74b3df824c",
              "version_major": 2,
              "version_minor": 0
            },
            "text/plain": [
              "GraphWidget(layout=Layout(height='690px', width='100%'))"
            ]
          },
          "metadata": {
            "application/vnd.jupyter.widget-view+json": {
              "colab": {
                "custom_widget_manager": {
                  "url": "https://ssl.gstatic.com/colaboratory-static/widgets/colab-cdn-widget-manager/2b70e893a8ba7c0f/manager.min.js"
                }
              }
            }
          },
          "output_type": "display_data"
        },
        {
          "data": {
            "application/vnd.jupyter.widget-view+json": {
              "model_id": "9292355f2b3c45e593d62a74b3df824c",
              "version_major": 2,
              "version_minor": 0
            },
            "text/plain": [
              "GraphWidget(layout=Layout(height='690px', width='100%'))"
            ]
          },
          "metadata": {
            "application/vnd.jupyter.widget-view+json": {
              "colab": {
                "custom_widget_manager": {
                  "url": "https://ssl.gstatic.com/colaboratory-static/widgets/colab-cdn-widget-manager/2b70e893a8ba7c0f/manager.min.js"
                }
              }
            }
          },
          "output_type": "display_data"
        }
      ],
      "source": [
        "showGraph()"
      ]
    },
    {
      "cell_type": "code",
      "execution_count": null,
      "metadata": {
        "id": "oowfEATnklqT"
      },
      "outputs": [],
      "source": [
        "from typing import Tuple,List,Optional"
      ]
    },
    {
      "cell_type": "code",
      "execution_count": null,
      "metadata": {
        "id": "Dsqd5qqKifwg"
      },
      "outputs": [],
      "source": [
        "\n",
        "from langchain_community.vectorstores import Neo4jVector\n",
        "from langchain_openai import OpenAIEmbeddings\n",
        "\n",
        "\n",
        "embedding = OpenAIEmbeddings()\n",
        "\n",
        "# Specify a new index name\n",
        "vector_index = Neo4jVector.from_existing_graph(\n",
        "    embedding,\n",
        "    search_type=\"hybrid\",\n",
        "    node_label=\"Document\",\n",
        "    text_node_properties=[\"text\"],\n",
        "    embedding_node_property=\"embedding\",\n",
        "    index_name=\"my_new_vector_index\"\n",
        ")"
      ]
    },
    {
      "cell_type": "code",
      "execution_count": null,
      "metadata": {
        "id": "L2rZKfgHqg-g"
      },
      "outputs": [],
      "source": [
        "from langchain_core.pydantic_v1 import BaseModel,Field\n",
        "class Entities(BaseModel):\n",
        "  names:List[str]=Field(\n",
        "      description=\" All the person,organisations,or business entities \"\"appear in the text\",\n",
        "\n",
        "  )\n",
        "\n"
      ]
    },
    {
      "cell_type": "code",
      "execution_count": null,
      "metadata": {
        "id": "btyaDo4l9MWZ"
      },
      "outputs": [],
      "source": [
        "from langchain_core.prompts import ChatPromptTemplate\n",
        "from langchain_core.prompts.prompt import PromptTemplate"
      ]
    },
    {
      "cell_type": "code",
      "execution_count": null,
      "metadata": {
        "id": "gL51vwnj9EJw"
      },
      "outputs": [],
      "source": [
        "prompt=ChatPromptTemplate.from_messages(\n",
        "    [\n",
        "        (\n",
        "        \"system\",\n",
        "        \"You are extracting organistaion and person entities from the text.\",\n",
        "        ),\n",
        "        (\n",
        "            \"human\",\n",
        "            \"Use the format to extract the infomation from following\"\n",
        "            \"input: {question}\",\n",
        "        )\n",
        "\n",
        "\n",
        "\n",
        "    ]\n",
        ")\n"
      ]
    },
    {
      "cell_type": "code",
      "execution_count": null,
      "metadata": {
        "id": "nAzqeb9A-UWD"
      },
      "outputs": [],
      "source": [
        "entity_chain=prompt | llm.with_structured_output(Entities)"
      ]
    },
    {
      "cell_type": "code",
      "execution_count": null,
      "metadata": {
        "colab": {
          "base_uri": "https://localhost:8080/"
        },
        "id": "hEIrMZkC-qgw",
        "outputId": "57b54297-1959-4d36-9f4c-1f416712d271"
      },
      "outputs": [
        {
          "data": {
            "text/plain": [
              "['Amelia Earhart']"
            ]
          },
          "execution_count": 23,
          "metadata": {},
          "output_type": "execute_result"
        }
      ],
      "source": [
        "entity_chain.invoke({\"question\":\"Where was Amelia Earhart born?\"}).names"
      ]
    },
    {
      "cell_type": "code",
      "execution_count": null,
      "metadata": {
        "id": "Oel5jxar-swT"
      },
      "outputs": [],
      "source": [
        "from langchain_community.vectorstores.neo4j_vector import remove_lucene_chars"
      ]
    },
    {
      "cell_type": "code",
      "execution_count": null,
      "metadata": {
        "id": "SAPVmc0UCbUb"
      },
      "outputs": [],
      "source": [
        "graph.query(\"CREATE FULLTEXT INDEX entity IF NOT EXISTS FOR(e:__Entity__)ON EACH [e.id]\")"
      ]
    },
    {
      "cell_type": "code",
      "execution_count": null,
      "metadata": {
        "id": "JgVA1Z8e_k3C"
      },
      "outputs": [],
      "source": [
        "def generate_full_text_query(input: str)-> str:\n",
        "  full_text_query=\"\"\n",
        "  words=[el for el in remove_lucene_chars(input).split()if el]\n",
        "  if words: # Check if words is not empty\n",
        "    for word in words[:-1]:\n",
        "      full_text_query+=f\"{word}~2 AND\"\n",
        "    full_text_query+=f\"{words[-1]}~2\" # Use words[-1] instead of word[-1]\n",
        "  return full_text_query.strip()"
      ]
    },
    {
      "cell_type": "code",
      "execution_count": null,
      "metadata": {
        "id": "peM6r_j2A2lR"
      },
      "outputs": [],
      "source": [
        "def structured_retriever(question:str)-> str:\n",
        "  result=\"\"\n",
        "  entities=entity_chain.invoke({\"question\":question})\n",
        "  for entity in entities.names:\n",
        "    response=graph.query(\n",
        "        \"\"\"CALL db.index.fulltext.queryNodes('entity',$query,{limit:2})\n",
        "        YIELD node,score\n",
        "        CALL\n",
        "          {\n",
        "          WITH node\n",
        "          MATCH(node)-[r:!MENTIONS]->(neighbor)\n",
        "          RETURN node.id+ \"-\"+type(r)+\" ->\" +node.id AS OUTPUT\n",
        "          UNION ALL\n",
        "          WITH node\n",
        "           MATCH (node)<-[r:!MENTIONS]-(neighbor)\n",
        "          RETURN neighbor.id +\" -\"+ type(r)+\"->\"+node.id AS OUTPUT\n",
        "        }\n",
        "        RETURN OUTPUT LIMIT 50\n",
        "        \"\"\",\n",
        "        {\"query\":generate_full_text_query(entity)},\n",
        "\n",
        "\n",
        "\n",
        "\n",
        "    )\n",
        "\n",
        "    result+=\"\\n\".join([el[\"output\"]for el in response])\n",
        "  return result"
      ]
    },
    {
      "cell_type": "code",
      "execution_count": null,
      "metadata": {
        "colab": {
          "base_uri": "https://localhost:8080/"
        },
        "id": "MUXZcKUDHk9f",
        "outputId": "494fab6e-bf6b-424a-b645-bc1b7fb61f3d"
      },
      "outputs": [
        {
          "name": "stderr",
          "output_type": "stream",
          "text": [
            "WARNING:neo4j.notifications:Received notification from DBMS server: {severity: WARNING} {code: Neo.ClientNotification.Statement.UnknownRelationshipTypeWarning} {category: UNRECOGNIZED} {title: The provided relationship type is not in the database.} {description: One of the relationship types in your query is not available in the database, make sure you didn't misspell it or that the label is available when you run this statement in your application (the missing relationship type is: MENTIONS)} {position: line: 6, column: 27, offset: 157} for query: 'CALL db.index.fulltext.queryNodes(\\'entity\\',$query,{limit:2})\\n        YIELD node,score\\n        CALL\\n          {\\n          WITH node\\n          MATCH(node)-[r:!MENTIONS]->(neighbor)\\n          RETURN node.id+ \"-\"+type(r)+\" ->\" +node.id AS OUTPUT\\n          UNION ALL\\n          WITH node\\n           MATCH (node)<-[r:!MENTIONS]-(neighbor)\\n          RETURN neighbor.id +\" -\"+ type(r)+\"->\"+node.id AS OUTPUT\\n        }\\n        RETURN OUTPUT LIMIT 50\\n        '\n",
            "WARNING:neo4j.notifications:Received notification from DBMS server: {severity: WARNING} {code: Neo.ClientNotification.Statement.UnknownRelationshipTypeWarning} {category: UNRECOGNIZED} {title: The provided relationship type is not in the database.} {description: One of the relationship types in your query is not available in the database, make sure you didn't misspell it or that the label is available when you run this statement in your application (the missing relationship type is: MENTIONS)} {position: line: 10, column: 30, offset: 311} for query: 'CALL db.index.fulltext.queryNodes(\\'entity\\',$query,{limit:2})\\n        YIELD node,score\\n        CALL\\n          {\\n          WITH node\\n          MATCH(node)-[r:!MENTIONS]->(neighbor)\\n          RETURN node.id+ \"-\"+type(r)+\" ->\" +node.id AS OUTPUT\\n          UNION ALL\\n          WITH node\\n           MATCH (node)<-[r:!MENTIONS]-(neighbor)\\n          RETURN neighbor.id +\" -\"+ type(r)+\"->\"+node.id AS OUTPUT\\n        }\\n        RETURN OUTPUT LIMIT 50\\n        '\n"
          ]
        },
        {
          "name": "stdout",
          "output_type": "stream",
          "text": [
            "\n"
          ]
        }
      ],
      "source": [
        "print(structured_retriever(\"Who is ElizabethI ?\"))\n"
      ]
    },
    {
      "cell_type": "code",
      "execution_count": null,
      "metadata": {
        "id": "kgoMESdGIFoK"
      },
      "outputs": [],
      "source": [
        "def retriever(question:str):\n",
        "  print(f\"search query:{question}\")\n",
        "  structured_data=structured_retriever(question)\n",
        "  unstructured_data=[el.page_content for el in vector_index.similarity_search(question)]\n",
        "  final_data=f\"\"\"STRUCTURED DATA:\n",
        "  {structured_data}\n",
        "  Unstructured data:\n",
        "  {\"#Document\".join(unstructured_data)}\n",
        "  \"\"\"\n",
        "  return final_data\n"
      ]
    },
    {
      "cell_type": "code",
      "execution_count": null,
      "metadata": {
        "id": "pd6abLT4JOG_"
      },
      "outputs": [],
      "source": [
        "_template=\"\"\"Give the following conversation and a follow up question repharase in its original language.\n",
        "Chat History:{chat_history}\n",
        "Follow Up Input:{question}\n",
        "Standalone question:\"\"\""
      ]
    },
    {
      "cell_type": "code",
      "execution_count": null,
      "metadata": {
        "id": "Jrsc6lykKpsw"
      },
      "outputs": [],
      "source": [
        "CONDENSE_QUESTION_PROMPT=PromptTemplate.from_template(_template)"
      ]
    },
    {
      "cell_type": "code",
      "execution_count": null,
      "metadata": {
        "id": "tBiedKbfK0sp"
      },
      "outputs": [],
      "source": [
        "def _format_chat_history(chat_history:List[Tuple[str,str]])->List:\n",
        "  buffer=[]\n",
        "  for human,ai in chat_history:\n",
        "    buffer.append(HumanMessage(content=human))\n",
        "    buffer.append(AIMessage(content=ai))\n",
        "\n",
        "  return buffer"
      ]
    },
    {
      "cell_type": "code",
      "execution_count": null,
      "metadata": {
        "id": "_OkyMVj8LbuS"
      },
      "outputs": [],
      "source": [
        "_search_query=RunnableBranch(\n",
        "    (\n",
        "        RunnableLambda(lambda x:bool(x.get(\"chat_history\"))).with_config(\n",
        "            run_name=\"Has ChatHistoryCheck\"\n",
        "        ),\n",
        "        RunnablePassthrough.assign(\n",
        "            chat_history=lambda x: _format_chat_history(x[\"chat_history\"])\n",
        "\n",
        "        )\n",
        "        |CONDENSE_QUESTION_PROMPT\n",
        "        |ChatOpenAI(temperature=0)\n",
        "        | StrOutputParser(),\n",
        "    ),\n",
        "    RunnableLambda(lambda x:x[\"question\"]),\n",
        ")"
      ]
    },
    {
      "cell_type": "code",
      "execution_count": null,
      "metadata": {
        "id": "3oUHMTzlM5RD"
      },
      "outputs": [],
      "source": [
        "template=\"\"\"Answer the question based on the context:\n",
        "{context}\n",
        "Question:{question}\n",
        "Use natural language to answer the question\n",
        "Answer:\"\"\""
      ]
    },
    {
      "cell_type": "code",
      "execution_count": null,
      "metadata": {
        "id": "3SCRcYt0NTyf"
      },
      "outputs": [],
      "source": [
        "prompt=ChatPromptTemplate.from_template(template)"
      ]
    },
    {
      "cell_type": "code",
      "execution_count": null,
      "metadata": {
        "id": "s1QXR8OROK1j"
      },
      "outputs": [],
      "source": [
        "from langchain_core.runnables import RunnableParallel"
      ]
    },
    {
      "cell_type": "code",
      "execution_count": null,
      "metadata": {
        "id": "qomHJV8KNckZ"
      },
      "outputs": [],
      "source": [
        "chain=(\n",
        "    RunnableParallel(\n",
        "        {\n",
        "            \"context\":_search_query | retriever,\n",
        "            \"question\":RunnablePassthrough(),\n",
        "\n",
        "        }\n",
        "    )\n",
        "    | prompt\n",
        "    |llm\n",
        "    |StrOutputParser()\n",
        ")"
      ]
    },
    {
      "cell_type": "code",
      "execution_count": null,
      "metadata": {
        "colab": {
          "base_uri": "https://localhost:8080/",
          "height": 109
        },
        "id": "hunrUTpGN3y5",
        "outputId": "85be0725-f48b-412f-afcd-3a1fb2e06b3a"
      },
      "outputs": [
        {
          "name": "stdout",
          "output_type": "stream",
          "text": [
            "search query:Which house did Elizabeth I live in?\n"
          ]
        },
        {
          "name": "stderr",
          "output_type": "stream",
          "text": [
            "WARNING:neo4j.notifications:Received notification from DBMS server: {severity: WARNING} {code: Neo.ClientNotification.Statement.UnknownRelationshipTypeWarning} {category: UNRECOGNIZED} {title: The provided relationship type is not in the database.} {description: One of the relationship types in your query is not available in the database, make sure you didn't misspell it or that the label is available when you run this statement in your application (the missing relationship type is: MENTIONS)} {position: line: 6, column: 27, offset: 157} for query: 'CALL db.index.fulltext.queryNodes(\\'entity\\',$query,{limit:2})\\n        YIELD node,score\\n        CALL\\n          {\\n          WITH node\\n          MATCH(node)-[r:!MENTIONS]->(neighbor)\\n          RETURN node.id+ \"-\"+type(r)+\" ->\" +node.id AS OUTPUT\\n          UNION ALL\\n          WITH node\\n           MATCH (node)<-[r:!MENTIONS]-(neighbor)\\n          RETURN neighbor.id +\" -\"+ type(r)+\"->\"+node.id AS OUTPUT\\n        }\\n        RETURN OUTPUT LIMIT 50\\n        '\n",
            "WARNING:neo4j.notifications:Received notification from DBMS server: {severity: WARNING} {code: Neo.ClientNotification.Statement.UnknownRelationshipTypeWarning} {category: UNRECOGNIZED} {title: The provided relationship type is not in the database.} {description: One of the relationship types in your query is not available in the database, make sure you didn't misspell it or that the label is available when you run this statement in your application (the missing relationship type is: MENTIONS)} {position: line: 10, column: 30, offset: 311} for query: 'CALL db.index.fulltext.queryNodes(\\'entity\\',$query,{limit:2})\\n        YIELD node,score\\n        CALL\\n          {\\n          WITH node\\n          MATCH(node)-[r:!MENTIONS]->(neighbor)\\n          RETURN node.id+ \"-\"+type(r)+\" ->\" +node.id AS OUTPUT\\n          UNION ALL\\n          WITH node\\n           MATCH (node)<-[r:!MENTIONS]-(neighbor)\\n          RETURN neighbor.id +\" -\"+ type(r)+\"->\"+node.id AS OUTPUT\\n        }\\n        RETURN OUTPUT LIMIT 50\\n        '\n"
          ]
        },
        {
          "data": {
            "application/vnd.google.colaboratory.intrinsic+json": {
              "type": "string"
            },
            "text/plain": [
              "'Elizabeth I lived in the Palace of Whitehall.'"
            ]
          },
          "execution_count": 37,
          "metadata": {},
          "output_type": "execute_result"
        }
      ],
      "source": [
        "chain.invoke({\"question\":\"Which house did Elizabeth I live in?\"})"
      ]
    },
    {
      "cell_type": "code",
      "execution_count": null,
      "metadata": {
        "colab": {
          "base_uri": "https://localhost:8080/",
          "height": 109
        },
        "id": "EtM27zJsPIfu",
        "outputId": "bc5e9b71-de7c-4c8e-e2b5-db2a30bf6f48"
      },
      "outputs": [
        {
          "name": "stdout",
          "output_type": "stream",
          "text": [
            "search query:Where was Elizabeth I born?\n"
          ]
        },
        {
          "name": "stderr",
          "output_type": "stream",
          "text": [
            "WARNING:neo4j.notifications:Received notification from DBMS server: {severity: WARNING} {code: Neo.ClientNotification.Statement.UnknownRelationshipTypeWarning} {category: UNRECOGNIZED} {title: The provided relationship type is not in the database.} {description: One of the relationship types in your query is not available in the database, make sure you didn't misspell it or that the label is available when you run this statement in your application (the missing relationship type is: MENTIONS)} {position: line: 6, column: 27, offset: 157} for query: 'CALL db.index.fulltext.queryNodes(\\'entity\\',$query,{limit:2})\\n        YIELD node,score\\n        CALL\\n          {\\n          WITH node\\n          MATCH(node)-[r:!MENTIONS]->(neighbor)\\n          RETURN node.id+ \"-\"+type(r)+\" ->\" +node.id AS OUTPUT\\n          UNION ALL\\n          WITH node\\n           MATCH (node)<-[r:!MENTIONS]-(neighbor)\\n          RETURN neighbor.id +\" -\"+ type(r)+\"->\"+node.id AS OUTPUT\\n        }\\n        RETURN OUTPUT LIMIT 50\\n        '\n",
            "WARNING:neo4j.notifications:Received notification from DBMS server: {severity: WARNING} {code: Neo.ClientNotification.Statement.UnknownRelationshipTypeWarning} {category: UNRECOGNIZED} {title: The provided relationship type is not in the database.} {description: One of the relationship types in your query is not available in the database, make sure you didn't misspell it or that the label is available when you run this statement in your application (the missing relationship type is: MENTIONS)} {position: line: 10, column: 30, offset: 311} for query: 'CALL db.index.fulltext.queryNodes(\\'entity\\',$query,{limit:2})\\n        YIELD node,score\\n        CALL\\n          {\\n          WITH node\\n          MATCH(node)-[r:!MENTIONS]->(neighbor)\\n          RETURN node.id+ \"-\"+type(r)+\" ->\" +node.id AS OUTPUT\\n          UNION ALL\\n          WITH node\\n           MATCH (node)<-[r:!MENTIONS]-(neighbor)\\n          RETURN neighbor.id +\" -\"+ type(r)+\"->\"+node.id AS OUTPUT\\n        }\\n        RETURN OUTPUT LIMIT 50\\n        '\n"
          ]
        },
        {
          "data": {
            "application/vnd.google.colaboratory.intrinsic+json": {
              "type": "string"
            },
            "text/plain": [
              "'Elizabeth I was born in Greenwich, England.'"
            ]
          },
          "execution_count": 38,
          "metadata": {},
          "output_type": "execute_result"
        }
      ],
      "source": [
        "chain.invoke({\"question\":\"Where was Elizabeth I born?\"})"
      ]
    },
    {
      "cell_type": "code",
      "execution_count": null,
      "metadata": {
        "colab": {
          "base_uri": "https://localhost:8080/",
          "height": 109
        },
        "id": "DvjMu_4UPZaY",
        "outputId": "09a96f85-d5fa-4abb-f480-562cedaa32d5"
      },
      "outputs": [
        {
          "name": "stdout",
          "output_type": "stream",
          "text": [
            "search query:When did  Elizabeth I crowned as queen?\n"
          ]
        },
        {
          "name": "stderr",
          "output_type": "stream",
          "text": [
            "WARNING:neo4j.notifications:Received notification from DBMS server: {severity: WARNING} {code: Neo.ClientNotification.Statement.UnknownRelationshipTypeWarning} {category: UNRECOGNIZED} {title: The provided relationship type is not in the database.} {description: One of the relationship types in your query is not available in the database, make sure you didn't misspell it or that the label is available when you run this statement in your application (the missing relationship type is: MENTIONS)} {position: line: 6, column: 27, offset: 157} for query: 'CALL db.index.fulltext.queryNodes(\\'entity\\',$query,{limit:2})\\n        YIELD node,score\\n        CALL\\n          {\\n          WITH node\\n          MATCH(node)-[r:!MENTIONS]->(neighbor)\\n          RETURN node.id+ \"-\"+type(r)+\" ->\" +node.id AS OUTPUT\\n          UNION ALL\\n          WITH node\\n           MATCH (node)<-[r:!MENTIONS]-(neighbor)\\n          RETURN neighbor.id +\" -\"+ type(r)+\"->\"+node.id AS OUTPUT\\n        }\\n        RETURN OUTPUT LIMIT 50\\n        '\n",
            "WARNING:neo4j.notifications:Received notification from DBMS server: {severity: WARNING} {code: Neo.ClientNotification.Statement.UnknownRelationshipTypeWarning} {category: UNRECOGNIZED} {title: The provided relationship type is not in the database.} {description: One of the relationship types in your query is not available in the database, make sure you didn't misspell it or that the label is available when you run this statement in your application (the missing relationship type is: MENTIONS)} {position: line: 10, column: 30, offset: 311} for query: 'CALL db.index.fulltext.queryNodes(\\'entity\\',$query,{limit:2})\\n        YIELD node,score\\n        CALL\\n          {\\n          WITH node\\n          MATCH(node)-[r:!MENTIONS]->(neighbor)\\n          RETURN node.id+ \"-\"+type(r)+\" ->\" +node.id AS OUTPUT\\n          UNION ALL\\n          WITH node\\n           MATCH (node)<-[r:!MENTIONS]-(neighbor)\\n          RETURN neighbor.id +\" -\"+ type(r)+\"->\"+node.id AS OUTPUT\\n        }\\n        RETURN OUTPUT LIMIT 50\\n        '\n"
          ]
        },
        {
          "data": {
            "application/vnd.google.colaboratory.intrinsic+json": {
              "type": "string"
            },
            "text/plain": [
              "'Elizabeth I was crowned as queen on January 15, 1559.'"
            ]
          },
          "execution_count": 39,
          "metadata": {},
          "output_type": "execute_result"
        }
      ],
      "source": [
        "chain.invoke({\"question\":\"When did  Elizabeth I crowned as queen?\"})\n"
      ]
    },
    {
      "cell_type": "code",
      "execution_count": null,
      "metadata": {
        "colab": {
          "base_uri": "https://localhost:8080/",
          "height": 109
        },
        "id": "jysVpHEQ1TYy",
        "outputId": "40f8d4ec-fbc9-4e9b-92cf-fa1ebef92d1f"
      },
      "outputs": [
        {
          "name": "stdout",
          "output_type": "stream",
          "text": [
            "search query:When did  Elizabeth I died?\n"
          ]
        },
        {
          "name": "stderr",
          "output_type": "stream",
          "text": [
            "WARNING:neo4j.notifications:Received notification from DBMS server: {severity: WARNING} {code: Neo.ClientNotification.Statement.UnknownRelationshipTypeWarning} {category: UNRECOGNIZED} {title: The provided relationship type is not in the database.} {description: One of the relationship types in your query is not available in the database, make sure you didn't misspell it or that the label is available when you run this statement in your application (the missing relationship type is: MENTIONS)} {position: line: 6, column: 27, offset: 157} for query: 'CALL db.index.fulltext.queryNodes(\\'entity\\',$query,{limit:2})\\n        YIELD node,score\\n        CALL\\n          {\\n          WITH node\\n          MATCH(node)-[r:!MENTIONS]->(neighbor)\\n          RETURN node.id+ \"-\"+type(r)+\" ->\" +node.id AS OUTPUT\\n          UNION ALL\\n          WITH node\\n           MATCH (node)<-[r:!MENTIONS]-(neighbor)\\n          RETURN neighbor.id +\" -\"+ type(r)+\"->\"+node.id AS OUTPUT\\n        }\\n        RETURN OUTPUT LIMIT 50\\n        '\n",
            "WARNING:neo4j.notifications:Received notification from DBMS server: {severity: WARNING} {code: Neo.ClientNotification.Statement.UnknownRelationshipTypeWarning} {category: UNRECOGNIZED} {title: The provided relationship type is not in the database.} {description: One of the relationship types in your query is not available in the database, make sure you didn't misspell it or that the label is available when you run this statement in your application (the missing relationship type is: MENTIONS)} {position: line: 10, column: 30, offset: 311} for query: 'CALL db.index.fulltext.queryNodes(\\'entity\\',$query,{limit:2})\\n        YIELD node,score\\n        CALL\\n          {\\n          WITH node\\n          MATCH(node)-[r:!MENTIONS]->(neighbor)\\n          RETURN node.id+ \"-\"+type(r)+\" ->\" +node.id AS OUTPUT\\n          UNION ALL\\n          WITH node\\n           MATCH (node)<-[r:!MENTIONS]-(neighbor)\\n          RETURN neighbor.id +\" -\"+ type(r)+\"->\"+node.id AS OUTPUT\\n        }\\n        RETURN OUTPUT LIMIT 50\\n        '\n"
          ]
        },
        {
          "data": {
            "application/vnd.google.colaboratory.intrinsic+json": {
              "type": "string"
            },
            "text/plain": [
              "'Elizabeth I died on March 24, 1603.'"
            ]
          },
          "execution_count": 40,
          "metadata": {},
          "output_type": "execute_result"
        }
      ],
      "source": [
        "chain.invoke({\"question\":\"When did  Elizabeth I died?\"})"
      ]
    }
  ],
  "metadata": {
    "colab": {
      "provenance": []
    },
    "kernelspec": {
      "display_name": "Python 3",
      "name": "python3"
    },
    "language_info": {
      "name": "python"
    },
    "widgets": {
      "application/vnd.jupyter.widget-state+json": {
        "9292355f2b3c45e593d62a74b3df824c": {
          "model_module": "yfiles-jupyter-graphs",
          "model_module_version": "^1.7.3",
          "model_name": "GraphModel",
          "state": {
            "_context_pane_mapping": [
              {
                "id": "Neighborhood",
                "title": "Neighborhood"
              },
              {
                "id": "Data",
                "title": "Data"
              },
              {
                "id": "Search",
                "title": "Search"
              },
              {
                "id": "About",
                "title": "About"
              }
            ],
            "_data_importer": "neo4j",
            "_directed": true,
            "_dom_classes": [],
            "_edges": [
              {
                "color": "#607D8B",
                "directed": true,
                "end": 1,
                "id": 1152922604118474800,
                "label": "FIRST_CHUNK",
                "properties": {
                  "label": "FIRST_CHUNK"
                },
                "start": 0,
                "thickness_factor": 1
              },
              {
                "color": "#673AB7",
                "directed": true,
                "end": 0,
                "id": 1152921504606847000,
                "label": "PART_OF",
                "properties": {
                  "label": "PART_OF"
                },
                "start": 1,
                "thickness_factor": 1
              },
              {
                "color": "#CDDC39",
                "directed": true,
                "end": 2,
                "id": 1152923703630102500,
                "label": "NEXT_CHUNK",
                "properties": {
                  "label": "NEXT_CHUNK"
                },
                "start": 1,
                "thickness_factor": 1
              },
              {
                "color": "#9E9E9E",
                "directed": true,
                "end": 6,
                "id": 1152924803141730300,
                "label": "HAS_ENTITY",
                "properties": {
                  "label": "HAS_ENTITY"
                },
                "start": 1,
                "thickness_factor": 1
              },
              {
                "color": "#9E9E9E",
                "directed": true,
                "end": 7,
                "id": 1155176602955415600,
                "label": "HAS_ENTITY",
                "properties": {
                  "label": "HAS_ENTITY"
                },
                "start": 1,
                "thickness_factor": 1
              },
              {
                "color": "#9E9E9E",
                "directed": true,
                "end": 8,
                "id": 1157428402769100800,
                "label": "HAS_ENTITY",
                "properties": {
                  "label": "HAS_ENTITY"
                },
                "start": 1,
                "thickness_factor": 1
              },
              {
                "color": "#9E9E9E",
                "directed": true,
                "end": 9,
                "id": 1159680202582786000,
                "label": "HAS_ENTITY",
                "properties": {
                  "label": "HAS_ENTITY"
                },
                "start": 1,
                "thickness_factor": 1
              },
              {
                "color": "#9E9E9E",
                "directed": true,
                "end": 10,
                "id": 1161932002396471300,
                "label": "HAS_ENTITY",
                "properties": {
                  "label": "HAS_ENTITY"
                },
                "start": 1,
                "thickness_factor": 1
              },
              {
                "color": "#9E9E9E",
                "directed": true,
                "end": 11,
                "id": 1164183802210156500,
                "label": "HAS_ENTITY",
                "properties": {
                  "label": "HAS_ENTITY"
                },
                "start": 1,
                "thickness_factor": 1
              },
              {
                "color": "#9E9E9E",
                "directed": true,
                "end": 12,
                "id": 1166435602023841800,
                "label": "HAS_ENTITY",
                "properties": {
                  "label": "HAS_ENTITY"
                },
                "start": 1,
                "thickness_factor": 1
              },
              {
                "color": "#9E9E9E",
                "directed": true,
                "end": 13,
                "id": 1168687401837527000,
                "label": "HAS_ENTITY",
                "properties": {
                  "label": "HAS_ENTITY"
                },
                "start": 1,
                "thickness_factor": 1
              },
              {
                "color": "#9E9E9E",
                "directed": true,
                "end": 14,
                "id": 1170939201651212300,
                "label": "HAS_ENTITY",
                "properties": {
                  "label": "HAS_ENTITY"
                },
                "start": 1,
                "thickness_factor": 1
              },
              {
                "color": "#9E9E9E",
                "directed": true,
                "end": 15,
                "id": 1173191001464897500,
                "label": "HAS_ENTITY",
                "properties": {
                  "label": "HAS_ENTITY"
                },
                "start": 1,
                "thickness_factor": 1
              },
              {
                "color": "#9E9E9E",
                "directed": true,
                "end": 16,
                "id": 1175442801278582800,
                "label": "HAS_ENTITY",
                "properties": {
                  "label": "HAS_ENTITY"
                },
                "start": 1,
                "thickness_factor": 1
              },
              {
                "color": "#9E9E9E",
                "directed": true,
                "end": 17,
                "id": 1177694601092268000,
                "label": "HAS_ENTITY",
                "properties": {
                  "label": "HAS_ENTITY"
                },
                "start": 1,
                "thickness_factor": 1
              },
              {
                "color": "#9E9E9E",
                "directed": true,
                "end": 18,
                "id": 1179946400905953300,
                "label": "HAS_ENTITY",
                "properties": {
                  "label": "HAS_ENTITY"
                },
                "start": 1,
                "thickness_factor": 1
              },
              {
                "color": "#673AB7",
                "directed": true,
                "end": 0,
                "id": 1152921504606847000,
                "label": "PART_OF",
                "properties": {
                  "label": "PART_OF"
                },
                "start": 2,
                "thickness_factor": 1
              },
              {
                "color": "#CDDC39",
                "directed": true,
                "end": 3,
                "id": 1152923703630102500,
                "label": "NEXT_CHUNK",
                "properties": {
                  "label": "NEXT_CHUNK"
                },
                "start": 2,
                "thickness_factor": 1
              },
              {
                "color": "#9E9E9E",
                "directed": true,
                "end": 6,
                "id": 1152924803141730300,
                "label": "HAS_ENTITY",
                "properties": {
                  "label": "HAS_ENTITY"
                },
                "start": 2,
                "thickness_factor": 1
              },
              {
                "color": "#9E9E9E",
                "directed": true,
                "end": 7,
                "id": 1155176602955415600,
                "label": "HAS_ENTITY",
                "properties": {
                  "label": "HAS_ENTITY"
                },
                "start": 2,
                "thickness_factor": 1
              },
              {
                "color": "#9E9E9E",
                "directed": true,
                "end": 8,
                "id": 1157428402769100800,
                "label": "HAS_ENTITY",
                "properties": {
                  "label": "HAS_ENTITY"
                },
                "start": 2,
                "thickness_factor": 1
              },
              {
                "color": "#9E9E9E",
                "directed": true,
                "end": 9,
                "id": 1159680202582786000,
                "label": "HAS_ENTITY",
                "properties": {
                  "label": "HAS_ENTITY"
                },
                "start": 2,
                "thickness_factor": 1
              },
              {
                "color": "#9E9E9E",
                "directed": true,
                "end": 10,
                "id": 1161932002396471300,
                "label": "HAS_ENTITY",
                "properties": {
                  "label": "HAS_ENTITY"
                },
                "start": 2,
                "thickness_factor": 1
              },
              {
                "color": "#9E9E9E",
                "directed": true,
                "end": 11,
                "id": 1164183802210156500,
                "label": "HAS_ENTITY",
                "properties": {
                  "label": "HAS_ENTITY"
                },
                "start": 2,
                "thickness_factor": 1
              },
              {
                "color": "#9E9E9E",
                "directed": true,
                "end": 12,
                "id": 1166435602023841800,
                "label": "HAS_ENTITY",
                "properties": {
                  "label": "HAS_ENTITY"
                },
                "start": 2,
                "thickness_factor": 1
              },
              {
                "color": "#9E9E9E",
                "directed": true,
                "end": 13,
                "id": 1168687401837527000,
                "label": "HAS_ENTITY",
                "properties": {
                  "label": "HAS_ENTITY"
                },
                "start": 2,
                "thickness_factor": 1
              },
              {
                "color": "#9E9E9E",
                "directed": true,
                "end": 14,
                "id": 1170939201651212300,
                "label": "HAS_ENTITY",
                "properties": {
                  "label": "HAS_ENTITY"
                },
                "start": 2,
                "thickness_factor": 1
              },
              {
                "color": "#9E9E9E",
                "directed": true,
                "end": 15,
                "id": 1173191001464897500,
                "label": "HAS_ENTITY",
                "properties": {
                  "label": "HAS_ENTITY"
                },
                "start": 2,
                "thickness_factor": 1
              },
              {
                "color": "#9E9E9E",
                "directed": true,
                "end": 16,
                "id": 1175442801278582800,
                "label": "HAS_ENTITY",
                "properties": {
                  "label": "HAS_ENTITY"
                },
                "start": 2,
                "thickness_factor": 1
              },
              {
                "color": "#9E9E9E",
                "directed": true,
                "end": 17,
                "id": 1177694601092268000,
                "label": "HAS_ENTITY",
                "properties": {
                  "label": "HAS_ENTITY"
                },
                "start": 2,
                "thickness_factor": 1
              },
              {
                "color": "#9E9E9E",
                "directed": true,
                "end": 18,
                "id": 1179946400905953300,
                "label": "HAS_ENTITY",
                "properties": {
                  "label": "HAS_ENTITY"
                },
                "start": 2,
                "thickness_factor": 1
              },
              {
                "color": "#673AB7",
                "directed": true,
                "end": 0,
                "id": 1152921504606847000,
                "label": "PART_OF",
                "properties": {
                  "label": "PART_OF"
                },
                "start": 3,
                "thickness_factor": 1
              },
              {
                "color": "#CDDC39",
                "directed": true,
                "end": 4,
                "id": 1152923703630102500,
                "label": "NEXT_CHUNK",
                "properties": {
                  "label": "NEXT_CHUNK"
                },
                "start": 3,
                "thickness_factor": 1
              },
              {
                "color": "#9E9E9E",
                "directed": true,
                "end": 6,
                "id": 1152924803141730300,
                "label": "HAS_ENTITY",
                "properties": {
                  "label": "HAS_ENTITY"
                },
                "start": 3,
                "thickness_factor": 1
              },
              {
                "color": "#9E9E9E",
                "directed": true,
                "end": 7,
                "id": 1155176602955415600,
                "label": "HAS_ENTITY",
                "properties": {
                  "label": "HAS_ENTITY"
                },
                "start": 3,
                "thickness_factor": 1
              },
              {
                "color": "#9E9E9E",
                "directed": true,
                "end": 8,
                "id": 1157428402769100800,
                "label": "HAS_ENTITY",
                "properties": {
                  "label": "HAS_ENTITY"
                },
                "start": 3,
                "thickness_factor": 1
              },
              {
                "color": "#9E9E9E",
                "directed": true,
                "end": 9,
                "id": 1159680202582786000,
                "label": "HAS_ENTITY",
                "properties": {
                  "label": "HAS_ENTITY"
                },
                "start": 3,
                "thickness_factor": 1
              },
              {
                "color": "#9E9E9E",
                "directed": true,
                "end": 10,
                "id": 1161932002396471300,
                "label": "HAS_ENTITY",
                "properties": {
                  "label": "HAS_ENTITY"
                },
                "start": 3,
                "thickness_factor": 1
              },
              {
                "color": "#9E9E9E",
                "directed": true,
                "end": 11,
                "id": 1164183802210156500,
                "label": "HAS_ENTITY",
                "properties": {
                  "label": "HAS_ENTITY"
                },
                "start": 3,
                "thickness_factor": 1
              },
              {
                "color": "#9E9E9E",
                "directed": true,
                "end": 12,
                "id": 1166435602023841800,
                "label": "HAS_ENTITY",
                "properties": {
                  "label": "HAS_ENTITY"
                },
                "start": 3,
                "thickness_factor": 1
              },
              {
                "color": "#9E9E9E",
                "directed": true,
                "end": 13,
                "id": 1168687401837527000,
                "label": "HAS_ENTITY",
                "properties": {
                  "label": "HAS_ENTITY"
                },
                "start": 3,
                "thickness_factor": 1
              },
              {
                "color": "#9E9E9E",
                "directed": true,
                "end": 14,
                "id": 1170939201651212300,
                "label": "HAS_ENTITY",
                "properties": {
                  "label": "HAS_ENTITY"
                },
                "start": 3,
                "thickness_factor": 1
              },
              {
                "color": "#9E9E9E",
                "directed": true,
                "end": 15,
                "id": 1173191001464897500,
                "label": "HAS_ENTITY",
                "properties": {
                  "label": "HAS_ENTITY"
                },
                "start": 3,
                "thickness_factor": 1
              },
              {
                "color": "#9E9E9E",
                "directed": true,
                "end": 16,
                "id": 1175442801278582800,
                "label": "HAS_ENTITY",
                "properties": {
                  "label": "HAS_ENTITY"
                },
                "start": 3,
                "thickness_factor": 1
              },
              {
                "color": "#9E9E9E",
                "directed": true,
                "end": 17,
                "id": 1177694601092268000,
                "label": "HAS_ENTITY",
                "properties": {
                  "label": "HAS_ENTITY"
                },
                "start": 3,
                "thickness_factor": 1
              },
              {
                "color": "#9E9E9E",
                "directed": true,
                "end": 18,
                "id": 1179946400905953300,
                "label": "HAS_ENTITY",
                "properties": {
                  "label": "HAS_ENTITY"
                },
                "start": 3,
                "thickness_factor": 1
              },
              {
                "color": "#673AB7",
                "directed": true,
                "end": 0,
                "id": 1152921504606847000,
                "label": "PART_OF",
                "properties": {
                  "label": "PART_OF"
                },
                "start": 4,
                "thickness_factor": 1
              },
              {
                "color": "#CDDC39",
                "directed": true,
                "end": 5,
                "id": 1152923703630102500,
                "label": "NEXT_CHUNK",
                "properties": {
                  "label": "NEXT_CHUNK"
                },
                "start": 4,
                "thickness_factor": 1
              },
              {
                "color": "#9E9E9E",
                "directed": true,
                "end": 6,
                "id": 1152924803141730300,
                "label": "HAS_ENTITY",
                "properties": {
                  "label": "HAS_ENTITY"
                },
                "start": 4,
                "thickness_factor": 1
              },
              {
                "color": "#9E9E9E",
                "directed": true,
                "end": 7,
                "id": 1155176602955415600,
                "label": "HAS_ENTITY",
                "properties": {
                  "label": "HAS_ENTITY"
                },
                "start": 4,
                "thickness_factor": 1
              }
            ],
            "_graph_layout": {},
            "_highlight": [],
            "_license": {},
            "_model_module": "yfiles-jupyter-graphs",
            "_model_module_version": "^1.7.3",
            "_model_name": "GraphModel",
            "_neighborhood": {},
            "_nodes": [
              {
                "color": "#2196F3",
                "id": 0,
                "label": "0",
                "position": [
                  0,
                  0
                ],
                "properties": {
                  "createdAt": "2024-07-22T09:26:56.000000",
                  "errorMessage": "",
                  "fileName": "Elizabeth_I",
                  "fileSize": 8074,
                  "fileSource": "Wikipedia",
                  "fileType": "text",
                  "is_cancelled": false,
                  "label": "Document",
                  "language": "en",
                  "model": "openai-gpt-3.5",
                  "nodeCount": 16,
                  "processed_chunk": 5,
                  "processingTime": 31.2,
                  "relationshipCount": 0,
                  "status": "Completed",
                  "total_chunks": 5,
                  "total_pages": 1,
                  "updatedAt": "2024-07-22T09:28:11.000000",
                  "url": "https://en.wikipedia.org/wiki/Elizabeth_I"
                },
                "scale_factor": 1,
                "size": [
                  55,
                  55
                ],
                "styles": {},
                "type": "#2196F3"
              },
              {
                "color": "#4CAF50",
                "id": 1,
                "label": "ab3211da0ee4f8238e1417104e1dbc185529103c",
                "position": [
                  0,
                  0
                ],
                "properties": {
                  "content_offset": 0,
                  "embedding": [
                    -0.038958460092544556,
                    -0.04642250016331673,
                    0.028235016390681267,
                    -0.024948086589574814,
                    0.051004357635974884,
                    -0.048008229583501816,
                    -0.06724727153778076,
                    -0.03619875758886337,
                    -0.010321334935724735,
                    0.0025009571108967066,
                    -0.0542307011783123,
                    -0.02262219600379467,
                    0.03268425911664963,
                    -0.06457354128360748,
                    -0.013586505316197872,
                    0.018721679225564003,
                    -0.054155133664608,
                    0.02430729568004608,
                    -0.09582248330116272,
                    0.06967311352491379,
                    0.029843563213944435,
                    0.004582383204251528,
                    -0.012210777960717678,
                    0.09022344648838043,
                    -0.02517009526491165,
                    0.011190962977707386,
                    -0.03854814171791077,
                    -0.02428303100168705,
                    -0.01437368430197239,
                    -0.067170649766922,
                    -0.06136994808912277,
                    -0.1571352630853653,
                    -0.0021758703514933586,
                    0.002294955775141716,
                    0.010808048769831657,
                    -0.07698717713356018,
                    0.02525167167186737,
                    0.006989374291151762,
                    0.03678787872195244,
                    -0.03549782559275627,
                    -0.056921716779470444,
                    -0.03487396612763405,
                    0.04424312338232994,
                    -0.004874890670180321,
                    -0.001975415274500847,
                    0.025507958605885506,
                    -0.08326146751642227,
                    -0.006241827271878719,
                    -0.01509525440633297,
                    -0.007142627611756325,
                    0.058077674359083176,
                    0.0042356387712061405,
                    -0.009498139843344688,
                    -0.009934889152646065,
                    -0.029499871656298637,
                    0.00842451211065054,
                    -0.025542302057147026,
                    -0.007944582030177116,
                    0.04323252663016319,
                    0.024180075153708458,
                    0.07922646403312683,
                    0.0801641047000885,
                    0.03570370376110077,
                    -0.006717295851558447,
                    -0.06597684323787689,
                    0.02656283974647522,
                    0.044960204511880875,
                    -0.10111381113529205,
                    -0.016869675368070602,
                    0.03777477145195007,
                    -0.02141888067126274,
                    -0.05399100109934807,
                    0.03846215456724167,
                    0.020544197410345078,
                    -0.03243297338485718,
                    0.08073501288890839,
                    0.0950024425983429,
                    0.03455432504415512,
                    -0.08714146167039871,
                    -0.002012052573263645,
                    -0.0956609919667244,
                    -0.027213536202907562,
                    0.021279899403452873,
                    0.09930410236120224,
                    0.04157734289765358,
                    -0.0691542997956276,
                    -0.04469803348183632,
                    -0.08384404331445694,
                    -0.0028085613157600164,
                    0.020946422591805458,
                    -0.03895912319421768,
                    -0.07591763883829117,
                    0.0632510781288147,
                    0.08742383122444153,
                    0.1026461273431778,
                    0.04207225888967514,
                    0.024205029010772705,
                    -0.043357402086257935,
                    0.015521504916250706,
                    0.0034368829801678658,
                    -0.12272122502326965,
                    -0.039694253355264664,
                    -0.03503244370222092,
                    0.061426710337400436,
                    -0.0828004702925682,
                    0.03244522213935852,
                    0.020493343472480774,
                    -0.06905438005924225,
                    0.008366735652089119,
                    -0.021333320066332817,
                    -0.02969423122704029,
                    -0.040815744549036026,
                    -0.01981603540480137,
                    -0.024821506813168526,
                    0.07539207488298416,
                    0.05866061896085739,
                    0.04107721522450447,
                    0.02440863847732544,
                    0.014941011555492878,
                    -0.05223209783434868,
                    0.030593806877732277,
                    0.06952574849128723,
                    -0.012664356268942356,
                    -0.049447473138570786,
                    0.007228470873087645,
                    -0.03633034601807594,
                    0.07076119631528854,
                    3.0433161196995237e-33,
                    -0.030411647632718086,
                    -0.029905380681157112,
                    -0.019604487344622612,
                    0.051382068544626236,
                    0.01276989933103323,
                    0.01988147757947445,
                    -0.030804410576820374,
                    0.06900224834680557,
                    0.045246679335832596,
                    0.0048179952427744865,
                    -0.0070126852951943874,
                    -0.11930163204669952,
                    0.007089063059538603,
                    -0.169230118393898,
                    -0.03226060792803764,
                    0.0855022445321083,
                    0.06623362004756927,
                    -0.0035652201622724533,
                    0.017390813678503036,
                    -0.007369345519691706,
                    0.02793455496430397,
                    0.005923434626311064,
                    0.033736854791641235,
                    0.05146852880716324,
                    -0.054052140563726425,
                    -0.03683915361762047,
                    0.04153221845626831,
                    -0.012501983903348446,
                    -0.006509609520435333,
                    0.012964652851223946,
                    0.0032432798761874437,
                    -0.015260519459843636,
                    0.01893729716539383,
                    -0.06799966096878052,
                    -0.04538709297776222,
                    0.029591508209705353,
                    0.052905838936567307,
                    -0.0167781300842762,
                    0.06423519551753998,
                    0.07283919304609299,
                    0.00856727734208107,
                    0.032897189259529114,
                    0.08605718612670898,
                    -0.05851695314049721,
                    -0.046543996781110764,
                    -0.09274064004421234,
                    0.030390847474336624,
                    -0.00010471192945260555,
                    -0.02488585375249386,
                    0.026802662760019302,
                    0.058890607208013535,
                    -0.13391147553920746,
                    -0.02692730724811554,
                    -0.015847045928239822,
                    -0.0329415425658226,
                    0.08549637347459793,
                    0.006401781924068928,
                    0.03501182422041893,
                    0.04453672468662262,
                    0.08063490688800812,
                    0.08123163878917694,
                    -0.037164609879255295,
                    0.04152991250157356,
                    0.0449303537607193,
                    -0.057433512061834335,
                    0.004909557290375233,
                    -0.004549718927592039,
                    -0.01790938712656498,
                    -0.08313285559415817,
                    -0.05896463617682457,
                    -0.03135830909013748,
                    0.04029739275574684,
                    -0.04212076589465141,
                    -0.0839562714099884,
                    0.03543158620595932,
                    -0.020000340417027473,
                    -0.009719174355268478,
                    -0.05722282454371452,
                    0.0286813136190176,
                    0.008534608408808708,
                    0.02740640752017498,
                    0.05024738237261772,
                    0.061509162187576294,
                    -0.03388592228293419,
                    0.04736682400107384,
                    -0.08080613613128662,
                    -0.04362352564930916,
                    0.005615323781967163,
                    0.060370441526174545,
                    0.03262101486325264,
                    -0.008694810792803764,
                    -0.014416191726922989,
                    0.0976199209690094,
                    -0.025489123538136482,
                    -0.00011656703281914815,
                    -4.2085471191421864e-33,
                    -0.011369300074875355,
                    -0.036848872900009155,
                    0.07271074503660202,
                    0.05623245984315872,
                    -0.02814077027142048,
                    -0.05186603218317032,
                    -0.044953685253858566,
                    -0.012199820950627327,
                    0.01672980561852455,
                    -0.08627117425203323,
                    0.045508839190006256,
                    -0.002635620767250657,
                    0.052192576229572296,
                    0.06026195362210274,
                    -0.05596514046192169,
                    0.02405218966305256,
                    -0.04234728217124939,
                    -0.050505999475717545,
                    0.015066673047840595,
                    0.02313999831676483,
                    0.0017956045921891928,
                    -0.045058589428663254,
                    -0.05252358317375183,
                    -0.04383105784654617,
                    0.0439993180334568,
                    0.026481809094548225,
                    -0.10222580283880234,
                    0.050422944128513336,
                    0.027150452136993408,
                    -0.015869317576289177,
                    0.00915763434022665,
                    -0.00690927729010582,
                    0.05262395367026329,
                    -0.023968128487467766,
                    0.06227066367864609,
                    -0.02289574220776558,
                    0.03748117387294769,
                    0.00746071757748723,
                    0.12245883792638779,
                    -0.011711038649082184,
                    -0.008744231425225735,
                    -0.053465910255908966,
                    0.08740575611591339,
                    -0.0365913100540638,
                    0.008351721800863743,
                    0.03872167691588402,
                    0.04979286342859268,
                    0.05428970977663994,
                    0.11058668047189713,
                    0.07148054242134094,
                    -0.018780825659632683,
                    -0.038297101855278015,
                    0.028439853340387344,
                    0.11142554134130478,
                    -0.005150954704731703,
                    0.02288918010890484,
                    0.022033339366316795,
                    -0.005238827783614397,
                    0.037727829068899155,
                    0.05939872935414314,
                    0.015369695611298084,
                    0.028822867199778557,
                    -0.020921558141708374,
                    0.04177818074822426,
                    -0.03153785318136215,
                    0.07062636315822601,
                    -0.0646444708108902,
                    -0.017470812425017357,
                    -0.012223407626152039,
                    -0.04419939965009689,
                    -0.02760722115635872,
                    -0.019307032227516174,
                    -0.011558924801647663,
                    0.038344886153936386,
                    0.004078784957528114,
                    -0.075956329703331,
                    0.02112320065498352,
                    -0.04360632598400116,
                    -0.010876444168388844,
                    0.016485294327139854,
                    0.002829666016623378,
                    -0.005314844660460949,
                    -0.03801698982715607,
                    -0.11511678248643875,
                    -0.04915058985352516,
                    -0.05881647765636444,
                    0.06703317910432816,
                    0.02609681338071823,
                    0.026025710627436638,
                    -0.13017216324806213,
                    -0.02250750921666622,
                    -0.07247897237539291,
                    0.11261389404535294,
                    -0.06803964078426361,
                    0.07470826059579849,
                    -4.4835502421847195e-8,
                    0.05585164949297905,
                    -0.005720487795770168,
                    0.04512305557727814,
                    -0.03742915764451027,
                    0.004333656746894121,
                    0.005755221005529165,
                    0.014505906030535698,
                    0.03969660401344299,
                    0.06632260978221893,
                    -0.10248220711946487,
                    -0.0675707757472992,
                    0.008263361640274525,
                    0.0676686018705368,
                    -0.08613798767328262,
                    0.07898896187543869,
                    -0.03266430273652077,
                    0.041120704263448715,
                    -0.11292921006679535,
                    0.07227329164743423,
                    0.06172994524240494,
                    0.00017536712402943522,
                    -0.06848424673080444,
                    0.021853700280189514,
                    -0.03669283166527748,
                    0.035203829407691956,
                    -0.017969679087400436,
                    0.07549073547124863,
                    0.031804509460926056,
                    -0.08284838497638702,
                    0.024963637813925743,
                    0.029571697115898132,
                    0.05394093319773674,
                    0.01344975084066391,
                    0.016193803399801254,
                    -0.09843941032886505,
                    0.008136131800711155,
                    0.05139381065964699,
                    0.074469193816185,
                    -0.06212843954563141,
                    -0.010919523425400257,
                    0.02961459755897522,
                    0.05950744077563286,
                    -0.10572056472301483,
                    -0.0507962629199028,
                    0.09079427272081375,
                    -0.05267929658293724,
                    -0.044850919395685196,
                    0.03155120462179184,
                    -0.007816717028617859,
                    -0.07175277918577194,
                    -0.040127720683813095,
                    0.005188741721212864,
                    0.04051244631409645,
                    0.07817275822162628,
                    0.038207147270441055,
                    -0.020984988659620285,
                    0.025124238803982735,
                    0.03251274302601814,
                    -0.04587535932660103,
                    0.07671744376420975,
                    0.08200159668922424,
                    -0.030490251258015633,
                    0.049857210367918015,
                    -0.05237767845392227
                  ],
                  "fileName": "Elizabeth_I",
                  "id": "ab3211da0ee4f8238e1417104e1dbc185529103c",
                  "label": "Chunk",
                  "length": 904,
                  "position": 1,
                  "text": "Elizabeth I (7 September 1533 – 24 March 1603) was Queen of England and Ireland from 17 November 1558 until her death in 1603. She was the last monarch of the House of Tudor. Elizabeth was the only surviving child of Henry VIII and his second wife, Anne Boleyn. When Elizabeth was two years old, her parents marriage was annulled, her mother was executed, and Elizabeth was declared illegitimate. Henry restored her to the line of succession when she was 10, via the Third Succession Act 1543. After Henrys death in 1547, Elizabeths younger half-brother Edward VI ruled until his own death in 1553, bequeathing the crown to a Protestant cousin, Lady Jane Grey, and ignoring the claims of his two half-sisters, the Catholic Mary and the younger Elizabeth, in spite of statutes to the contrary. Edwards will was set aside within weeks of his death and Mary became queen, deposing and executing Jane. During"
                },
                "scale_factor": 1,
                "size": [
                  55,
                  55
                ],
                "styles": {},
                "type": "#4CAF50"
              },
              {
                "color": "#4CAF50",
                "id": 2,
                "label": "7841a932f5a3f7d98d918f3a2f226ad206dcec53",
                "position": [
                  0,
                  0
                ],
                "properties": {
                  "content_offset": 904,
                  "embedding": [
                    -0.014984644949436188,
                    -0.05261802673339844,
                    0.01921786181628704,
                    -0.01593141257762909,
                    0.030202560126781464,
                    0.005177158396691084,
                    -0.004572553560137749,
                    -0.043876320123672485,
                    -0.0141195859760046,
                    0.008788594976067543,
                    -0.03645429387688637,
                    0.03424912318587303,
                    0.03830854594707489,
                    -0.06168672814965248,
                    -0.0138709070160985,
                    0.055078886449337006,
                    -0.03535576909780502,
                    0.05306249111890793,
                    -0.055264733731746674,
                    0.0779397264122963,
                    0.00778378127142787,
                    -0.015388301573693752,
                    -0.021299613639712334,
                    0.09101983159780502,
                    -0.0006987848319113255,
                    -0.011092397384345531,
                    -0.03473092243075371,
                    -0.024636277928948402,
                    0.0142664210870862,
                    -0.046383991837501526,
                    -0.04622923210263252,
                    -0.12696008384227753,
                    -0.01762954704463482,
                    0.04450590908527374,
                    0.018055744469165802,
                    -0.006055634468793869,
                    0.03357231616973877,
                    0.02271755039691925,
                    -0.02894551493227482,
                    -0.07823467254638672,
                    -0.020402921363711357,
                    -0.0016587496502324939,
                    0.025336066260933876,
                    -0.009689983911812305,
                    -0.012009849771857262,
                    -0.002548540709540248,
                    -0.05963354557752609,
                    0.07886801660060883,
                    -0.056711893528699875,
                    -0.11666930466890335,
                    0.030064290389418602,
                    0.0019386479398235679,
                    0.01351028773933649,
                    -0.05646536871790886,
                    -0.022709308192133904,
                    0.044493600726127625,
                    -0.03911777213215828,
                    -0.03505668789148331,
                    0.07153744995594025,
                    0.0250017661601305,
                    -0.021059906110167503,
                    0.11952073127031326,
                    0.029980916529893875,
                    -0.0014509228058159351,
                    -0.08911268413066864,
                    0.005381267983466387,
                    0.007586480118334293,
                    -0.06558167934417725,
                    0.02348218485713005,
                    0.03087768889963627,
                    -0.02087746560573578,
                    -0.08281829953193665,
                    0.03379712253808975,
                    -0.009179052896797657,
                    -0.07568471878767014,
                    0.021047713235020638,
                    0.060291606932878494,
                    0.04703313484787941,
                    -0.05127502232789993,
                    0.05328108370304108,
                    -0.05617493391036987,
                    -0.010947159491479397,
                    0.03643462806940079,
                    0.09126534312963486,
                    0.02242310531437397,
                    -0.10368124395608902,
                    -0.014364409260451794,
                    -0.0991627648472786,
                    0.0329195111989975,
                    -0.02358030341565609,
                    0.006706892047077417,
                    -0.04334516078233719,
                    0.07417371869087219,
                    0.06991419196128845,
                    0.060344088822603226,
                    0.04383287578821182,
                    0.0017117855604737997,
                    -0.06431423872709274,
                    0.05276454985141754,
                    -0.0037623420357704163,
                    -0.1180284172296524,
                    -0.03260090947151184,
                    0.006671398412436247,
                    0.06629563868045807,
                    -0.044262420386075974,
                    -0.02738090045750141,
                    0.05760791897773743,
                    -0.027562495321035385,
                    0.04730915278196335,
                    -0.039429210126399994,
                    0.015309600159525871,
                    -0.01812952384352684,
                    -0.04952104389667511,
                    0.003207005560398102,
                    0.06674321740865707,
                    0.0037896595895290375,
                    -0.02990092523396015,
                    0.01594553142786026,
                    -0.030067022889852524,
                    -0.06552834063768387,
                    0.043033942580223083,
                    0.07149523496627808,
                    -0.03307158127427101,
                    -0.036358412355184555,
                    -0.035696689039468765,
                    0.047587744891643524,
                    0.006995045579969883,
                    5.499209151453845e-34,
                    -0.058490123599767685,
                    -0.012221538461744785,
                    -0.038808632642030716,
                    0.07931056618690491,
                    0.006572892889380455,
                    0.0475483313202858,
                    0.01501389779150486,
                    0.048106029629707336,
                    0.0464618094265461,
                    -0.000945746956858784,
                    0.004418151918798685,
                    -0.11942996084690094,
                    -0.002084338106215,
                    -0.1159544289112091,
                    -0.032062966376543045,
                    -0.007891603745520115,
                    0.06734009087085724,
                    0.004294839221984148,
                    0.05282532051205635,
                    0.030535008758306503,
                    0.018768001347780228,
                    0.04789331555366516,
                    0.03604121878743172,
                    0.07403181493282318,
                    -0.059952836483716965,
                    -0.07401510328054428,
                    0.07566577196121216,
                    -0.012752728536725044,
                    0.02842937409877777,
                    0.024411894381046295,
                    0.016331804916262627,
                    -0.018280191347002983,
                    -0.013870093040168285,
                    -0.054177261888980865,
                    0.032709673047065735,
                    0.02867579273879528,
                    0.08085058629512787,
                    -0.03627795726060867,
                    0.06483384966850281,
                    0.036681029945611954,
                    -0.07835648953914642,
                    -0.002639972371980548,
                    0.11666887253522873,
                    0.012916761450469494,
                    -0.047688040882349014,
                    -0.06541202962398529,
                    0.004032664932310581,
                    -0.027804698795080185,
                    -0.02551591582596302,
                    0.05696035921573639,
                    0.015591447241604328,
                    -0.10007267445325851,
                    -0.0032832424622029066,
                    -0.030015986412763596,
                    -0.05210740491747856,
                    0.08385536074638367,
                    0.06913112848997116,
                    0.09795529395341873,
                    0.04486442357301712,
                    0.08376092463731766,
                    0.007532449439167976,
                    -0.025565121322870255,
                    0.000705639598891139,
                    0.0043241106905043125,
                    -0.018674226477742195,
                    -0.034447625279426575,
                    0.028903942555189133,
                    -0.05853080749511719,
                    -0.06806442141532898,
                    -0.05401436239480972,
                    -0.016320746392011642,
                    0.08743707090616226,
                    0.028045808896422386,
                    -0.012692740187048912,
                    0.06073550879955292,
                    0.028130648657679558,
                    -0.03297847509384155,
                    -0.01832830347120762,
                    -0.009650941006839275,
                    0.028694793581962585,
                    0.03143645077943802,
                    0.024003369733691216,
                    0.0131226172670722,
                    -0.0010833488777279854,
                    0.06412134319543839,
                    -0.12086406350135803,
                    0.014427530579268932,
                    -0.0015072142705321312,
                    0.051610082387924194,
                    -0.008673354983329773,
                    0.0552392452955246,
                    0.010558382607996464,
                    0.1095547005534172,
                    -0.045848701149225235,
                    -0.03872139751911163,
                    -2.26303968368399e-33,
                    0.015077365562319756,
                    -0.057839978486299515,
                    0.12084390223026276,
                    0.10553086549043655,
                    -0.008154219947755337,
                    -0.06041957065463066,
                    -0.06914865225553513,
                    -0.017366958782076836,
                    0.026743700727820396,
                    -0.06932557374238968,
                    0.0513797327876091,
                    -0.053182702511548996,
                    0.030475646257400513,
                    0.059165410697460175,
                    -0.03538117930293083,
                    0.018057627603411674,
                    -0.04489152505993843,
                    -0.01592741534113884,
                    -0.06951045244932175,
                    0.011124232783913612,
                    -0.056093815714120865,
                    -0.026085805147886276,
                    -0.022550348192453384,
                    -0.024380939081311226,
                    0.0743793472647667,
                    0.04291770979762077,
                    -0.04869784414768219,
                    0.023635951802134514,
                    -0.006830591708421707,
                    -0.008677425794303417,
                    -0.017503438517451286,
                    0.06752169132232666,
                    -0.006540757603943348,
                    -0.03343483805656433,
                    -0.012665818445384502,
                    0.01606546901166439,
                    0.0240773968398571,
                    0.013410838320851326,
                    0.12965358793735504,
                    0.007430418860167265,
                    0.00979414489120245,
                    -0.027043236419558525,
                    0.044121671468019485,
                    -0.05819935351610184,
                    0.020701764151453972,
                    0.052708301693201065,
                    0.07159198075532913,
                    0.0690910816192627,
                    0.1297050416469574,
                    0.02117679826915264,
                    -0.050928112119436264,
                    0.009834522381424904,
                    0.04200534522533417,
                    0.07589507848024368,
                    0.0056380536407232285,
                    -0.0530288890004158,
                    -0.012656408362090588,
                    -0.031322021037340164,
                    0.00948658213019371,
                    0.02856498956680298,
                    0.05789894610643387,
                    -0.021004831418395042,
                    0.012262866832315922,
                    0.043091241270303726,
                    -0.02470749244093895,
                    0.021218322217464447,
                    -0.08803550153970718,
                    -0.07130839675664902,
                    0.02948686294257641,
                    -0.03443723917007446,
                    -0.07597630470991135,
                    0.003631687955930829,
                    0.01894618384540081,
                    0.03292905539274216,
                    -0.016353320330381393,
                    -0.010550398379564285,
                    -0.026003459468483925,
                    -0.1824154406785965,
                    -0.030353650450706482,
                    -0.021849313750863075,
                    0.018753571435809135,
                    -0.005405911244452,
                    -0.0341755747795105,
                    -0.15299224853515625,
                    -0.052431728690862656,
                    -0.07073617726564407,
                    0.0655859187245369,
                    0.05338143929839134,
                    -0.017171675339341164,
                    -0.12024836987257004,
                    -0.013374227099120617,
                    -0.1567964404821396,
                    0.10951869934797287,
                    -0.05947239696979523,
                    0.059051256626844406,
                    -4.440741463440645e-8,
                    -0.0013228760799393058,
                    0.035757262259721756,
                    0.02721819281578064,
                    -0.04312926158308983,
                    0.041749656200408936,
                    0.021196871995925903,
                    -0.04102803394198418,
                    -0.018563145771622658,
                    0.0944746881723404,
                    -0.08944189548492432,
                    -0.1257852166891098,
                    0.00869037862867117,
                    -0.04481377825140953,
                    -0.07215185463428497,
                    0.05090201646089554,
                    -0.022984527051448822,
                    0.03880453109741211,
                    -0.07064298540353775,
                    0.06385330855846405,
                    0.04597620666027069,
                    0.05387358367443085,
                    -0.030927255749702454,
                    0.019277527928352356,
                    -0.013476185500621796,
                    -0.0007790492963977158,
                    -0.04399563744664192,
                    0.03893696889281273,
                    0.07908923178911209,
                    0.0064840358681976795,
                    0.009745027869939804,
                    0.025101251900196075,
                    0.04262826591730118,
                    -0.03988203406333923,
                    0.06729789078235626,
                    -0.048664867877960205,
                    -0.008255016058683395,
                    -0.03363442420959473,
                    0.04359806701540947,
                    -0.007068149279803038,
                    -0.006924380548298359,
                    0.03782128915190697,
                    0.06547417491674423,
                    -0.08994892984628677,
                    0.005842383950948715,
                    0.0015977945877239108,
                    -0.008737274445593357,
                    -0.014137407764792442,
                    0.10124017298221588,
                    -0.021420622244477272,
                    -0.068571075797081,
                    0.02611364983022213,
                    -0.0012098655570298433,
                    0.04341743513941765,
                    0.01633116975426674,
                    0.026902902871370316,
                    0.020232127979397774,
                    0.05635270103812218,
                    0.0014652985846623778,
                    -0.04627663642168045,
                    0.036836810410022736,
                    -0.03532553091645241,
                    -0.025035319849848747,
                    0.07235836982727051,
                    -0.07878290116786957
                  ],
                  "fileName": "Elizabeth_I",
                  "id": "7841a932f5a3f7d98d918f3a2f226ad206dcec53",
                  "label": "Chunk",
                  "length": 1013,
                  "position": 2,
                  "text": " was set aside within weeks of his death and Mary became queen, deposing and executing Jane. During Marys reign, Elizabeth was imprisoned for nearly a year on suspicion of supporting Protestant rebels. Upon her half-sisters death in 1558, Elizabeth succeeded to the throne and set out to rule by good counsel. She depended heavily on a group of trusted advisers led by William Cecil, whom she created Baron Burghley. One of her first actions as queen was the establishment of an English Protestant church, of which she became the supreme governor. This era, later named the Elizabethan Religious Settlement, would evolve into the Church of England. It was expected that Elizabeth would marry and produce an heir; however, despite numerous courtships, she never did, and because of this she is sometimes referred to as the Virgin Queen. She was eventually succeeded by her first cousin twice removed, James VI of Scotland, the son of Mary, Queen of Scots. In government, Elizabeth was more moderate than her father"
                },
                "scale_factor": 1,
                "size": [
                  55,
                  55
                ],
                "styles": {},
                "type": "#4CAF50"
              },
              {
                "color": "#F44336",
                "id": 6,
                "label": "Elizabeth I",
                "position": [
                  0,
                  0
                ],
                "properties": {
                  "birth_date": "7 September 1533",
                  "death_date": "24 March 1603",
                  "house": "House of Tudor",
                  "id": "Elizabeth I",
                  "label": "Person",
                  "name": "Elizabeth I",
                  "title": "Queen of England and Ireland"
                },
                "scale_factor": 1,
                "size": [
                  55,
                  55
                ],
                "styles": {},
                "type": "#F44336"
              },
              {
                "color": "#F44336",
                "id": 7,
                "label": "Henry Viii",
                "position": [
                  0,
                  0
                ],
                "properties": {
                  "id": "Henry Viii",
                  "label": "Person",
                  "name": "Henry VIII"
                },
                "scale_factor": 1,
                "size": [
                  55,
                  55
                ],
                "styles": {},
                "type": "#F44336"
              },
              {
                "color": "#F44336",
                "id": 8,
                "label": "Anne Boleyn",
                "position": [
                  0,
                  0
                ],
                "properties": {
                  "id": "Anne Boleyn",
                  "label": "Person",
                  "name": "Anne Boleyn"
                },
                "scale_factor": 1,
                "size": [
                  55,
                  55
                ],
                "styles": {},
                "type": "#F44336"
              },
              {
                "color": "#F44336",
                "id": 9,
                "label": "Edward Vi",
                "position": [
                  0,
                  0
                ],
                "properties": {
                  "id": "Edward Vi",
                  "label": "Person",
                  "name": "Edward VI"
                },
                "scale_factor": 1,
                "size": [
                  55,
                  55
                ],
                "styles": {},
                "type": "#F44336"
              },
              {
                "color": "#F44336",
                "id": 10,
                "label": "Lady Jane Grey",
                "position": [
                  0,
                  0
                ],
                "properties": {
                  "id": "Lady Jane Grey",
                  "label": "Person",
                  "name": "Lady Jane Grey"
                },
                "scale_factor": 1,
                "size": [
                  55,
                  55
                ],
                "styles": {},
                "type": "#F44336"
              },
              {
                "color": "#F44336",
                "id": 11,
                "label": "Mary",
                "position": [
                  0,
                  0
                ],
                "properties": {
                  "id": "Mary",
                  "label": "Person",
                  "name": "Mary"
                },
                "scale_factor": 1,
                "size": [
                  55,
                  55
                ],
                "styles": {},
                "type": "#F44336"
              },
              {
                "color": "#F44336",
                "id": 12,
                "label": "William Cecil",
                "position": [
                  0,
                  0
                ],
                "properties": {
                  "id": "William Cecil",
                  "label": "Person",
                  "name": "William Cecil",
                  "title": "Baron Burghley"
                },
                "scale_factor": 1,
                "size": [
                  55,
                  55
                ],
                "styles": {},
                "type": "#F44336"
              },
              {
                "color": "#F44336",
                "id": 13,
                "label": "James Vi",
                "position": [
                  0,
                  0
                ],
                "properties": {
                  "id": "James Vi",
                  "label": "Person",
                  "name": "James VI"
                },
                "scale_factor": 1,
                "size": [
                  55,
                  55
                ],
                "styles": {},
                "type": "#F44336"
              },
              {
                "color": "#F44336",
                "id": 14,
                "label": "Mary, Queen Of Scots",
                "position": [
                  0,
                  0
                ],
                "properties": {
                  "id": "Mary, Queen Of Scots",
                  "label": "Person",
                  "name": "Mary, Queen of Scots"
                },
                "scale_factor": 1,
                "size": [
                  55,
                  55
                ],
                "styles": {},
                "type": "#F44336"
              },
              {
                "color": "#F44336",
                "id": 15,
                "label": "Francis Drake",
                "position": [
                  0,
                  0
                ],
                "properties": {
                  "id": "Francis Drake",
                  "label": "Person",
                  "name": "Francis Drake"
                },
                "scale_factor": 1,
                "size": [
                  55,
                  55
                ],
                "styles": {},
                "type": "#F44336"
              },
              {
                "color": "#F44336",
                "id": 16,
                "label": "Walter Raleigh",
                "position": [
                  0,
                  0
                ],
                "properties": {
                  "id": "Walter Raleigh",
                  "label": "Person",
                  "name": "Walter Raleigh"
                },
                "scale_factor": 1,
                "size": [
                  55,
                  55
                ],
                "styles": {},
                "type": "#F44336"
              },
              {
                "color": "#F44336",
                "id": 17,
                "label": "William Shakespeare",
                "position": [
                  0,
                  0
                ],
                "properties": {
                  "id": "William Shakespeare",
                  "label": "Person",
                  "name": "William Shakespeare"
                },
                "scale_factor": 1,
                "size": [
                  55,
                  55
                ],
                "styles": {},
                "type": "#F44336"
              },
              {
                "color": "#F44336",
                "id": 18,
                "label": "Christopher Marlowe",
                "position": [
                  0,
                  0
                ],
                "properties": {
                  "id": "Christopher Marlowe",
                  "label": "Person",
                  "name": "Christopher Marlowe"
                },
                "scale_factor": 1,
                "size": [
                  55,
                  55
                ],
                "styles": {},
                "type": "#F44336"
              },
              {
                "color": "#4CAF50",
                "id": 3,
                "label": "4b308ce4f75ccd815b4c31799fa07b0ec77ef583",
                "position": [
                  0,
                  0
                ],
                "properties": {
                  "content_offset": 1917,
                  "embedding": [
                    0.03466173633933067,
                    -0.008724549785256386,
                    0.04347482696175575,
                    -0.0002527266915421933,
                    0.09005554020404816,
                    0.022915735840797424,
                    0.03544694185256958,
                    -0.06901660561561584,
                    -0.0406213104724884,
                    -0.025479482486844063,
                    -0.05650952830910683,
                    0.022017795592546463,
                    0.059139784425497055,
                    -0.04737258329987526,
                    -0.04571441560983658,
                    -0.00605786731466651,
                    -0.05813279002904892,
                    0.02912285178899765,
                    -0.044120389968156815,
                    0.1021101176738739,
                    -0.023020759224891663,
                    -0.020927274599671364,
                    0.046894825994968414,
                    0.07560689747333527,
                    -0.05235219746828079,
                    -0.04062168300151825,
                    0.024643318727612495,
                    -0.010269069112837315,
                    -0.06791327893733978,
                    -0.041969526559114456,
                    -0.023063816130161285,
                    -0.05277203023433685,
                    -0.04610663652420044,
                    0.019637200981378555,
                    -0.014104260131716728,
                    -0.01612677238881588,
                    0.09018959850072861,
                    0.048932213336229324,
                    0.03105204366147518,
                    -0.06901142746210098,
                    -0.03911340981721878,
                    -0.08222629129886627,
                    0.032828155905008316,
                    -0.026494015008211136,
                    -0.03988423943519592,
                    0.009543734602630138,
                    -0.06680790334939957,
                    0.08191350102424622,
                    -0.025267666205763817,
                    -0.1174989566206932,
                    0.0017857793718576431,
                    -0.03197126463055611,
                    -0.042650721967220306,
                    -0.1413528472185135,
                    -0.021409237757325172,
                    -0.009571203961968422,
                    -0.026712918654084206,
                    0.0326138436794281,
                    0.06347443163394928,
                    0.020428741350769997,
                    0.01481377799063921,
                    0.06599508225917816,
                    0.029827620834112167,
                    0.044394493103027344,
                    -0.05484575405716896,
                    0.00674998527392745,
                    0.0683366060256958,
                    -0.015430502593517303,
                    -0.009803046472370625,
                    0.0809023454785347,
                    -0.01788918673992157,
                    -0.04479851573705673,
                    0.04211537167429924,
                    -0.04330264776945114,
                    -0.05300527438521385,
                    0.07377874106168747,
                    0.009271890856325626,
                    0.0030740718357264996,
                    -0.008730263449251652,
                    0.009307223372161388,
                    -0.012960797175765038,
                    0.019969981163740158,
                    0.021991223096847534,
                    0.07891512662172318,
                    0.07399603724479675,
                    -0.10650768876075745,
                    0.05895338952541351,
                    -0.09962905943393707,
                    0.055435411632061005,
                    -0.014447557739913464,
                    -0.06577793508768082,
                    -0.016185874119400978,
                    0.06645238399505615,
                    0.06019745394587517,
                    0.08281461149454117,
                    -0.0459657721221447,
                    0.0005691375117748976,
                    -0.029272763058543205,
                    -0.06005415692925453,
                    0.018295034766197205,
                    -0.061127353459596634,
                    0.025043535977602005,
                    -0.013374710455536842,
                    0.06759272515773773,
                    -0.018900789320468903,
                    0.008159656077623367,
                    -0.027642669156193733,
                    -0.04792046174407005,
                    0.047420188784599304,
                    -0.0009784528519958258,
                    -0.03639115020632744,
                    0.021186459809541702,
                    -0.012919474393129349,
                    -0.10616257041692734,
                    0.08153846114873886,
                    -0.004934092052280903,
                    0.04250507801771164,
                    -0.05458533763885498,
                    -0.052096910774707794,
                    -0.014299284666776657,
                    0.034523289650678635,
                    0.01927522011101246,
                    -0.01924395002424717,
                    -0.04268105700612068,
                    -0.028202923014760017,
                    -0.01744619756937027,
                    0.02036619931459427,
                    1.3415280605946392e-33,
                    -0.06447523832321167,
                    0.0030252488795667887,
                    -0.021300658583641052,
                    0.09879311174154282,
                    0.031208882108330727,
                    0.09849338978528976,
                    0.04728860408067703,
                    0.02291075885295868,
                    0.029766131192445755,
                    -0.012944458983838558,
                    -0.004058824852108955,
                    -0.0212839525192976,
                    -0.034631166607141495,
                    -0.09850158542394638,
                    0.015787990763783455,
                    0.07008761167526245,
                    0.0491066537797451,
                    0.02738378569483757,
                    0.07299642264842987,
                    0.029846491292119026,
                    0.00891662947833538,
                    0.001901804469525814,
                    0.09470892697572708,
                    0.03971591964364052,
                    0.02480246312916279,
                    -0.0032178598921746016,
                    0.0892840102314949,
                    -0.02263590693473816,
                    0.003795907599851489,
                    0.031788673251867294,
                    0.016766337677836418,
                    -0.04315999895334244,
                    0.043705642223358154,
                    -0.08654142916202545,
                    0.05968392267823219,
                    0.006735130678862333,
                    0.007329640444368124,
                    -0.1271960437297821,
                    0.04897824302315712,
                    0.06217613071203232,
                    -0.04032396152615547,
                    -0.004612063057720661,
                    0.11430586129426956,
                    -0.024541495367884636,
                    -0.04076507315039635,
                    -0.02554723620414734,
                    0.020873935893177986,
                    -0.034258414059877396,
                    -0.017943521961569786,
                    0.029325878247618675,
                    0.05772632360458374,
                    -0.10643935948610306,
                    -0.05238668993115425,
                    -0.07970684766769409,
                    -0.058726970106363297,
                    0.046441562473773956,
                    0.018351376056671143,
                    0.10077183693647385,
                    -0.008016884326934814,
                    -0.053399618715047836,
                    0.0163373164832592,
                    -0.09742270410060883,
                    0.023292934522032738,
                    -0.04611516743898392,
                    -0.015134369023144245,
                    -0.012959306128323078,
                    -0.04083064943552017,
                    -0.05738839879631996,
                    -0.11897622048854828,
                    -0.00018598300812300295,
                    -0.03297116607427597,
                    0.0890665277838707,
                    -0.018443385139107704,
                    -0.0607730969786644,
                    0.03231343626976013,
                    0.06423518061637878,
                    0.02952679432928562,
                    -0.06502693146467209,
                    0.05215112864971161,
                    -0.030235949903726578,
                    0.010834841057658195,
                    0.001593726105056703,
                    0.052983228117227554,
                    -0.007862772792577744,
                    0.03343219310045242,
                    -0.06357376277446747,
                    0.09713766723871231,
                    0.022201793268322945,
                    0.016685035079717636,
                    0.06877713650465012,
                    -0.01752653904259205,
                    0.04390878602862358,
                    0.05359138548374176,
                    -0.08119802922010422,
                    -0.09050296247005463,
                    -2.523215338100341e-33,
                    0.00919291190803051,
                    0.011546874418854713,
                    0.0748230442404747,
                    0.05868033692240715,
                    0.006704848259687424,
                    -0.016301676630973816,
                    -0.04637250304222107,
                    0.0015487472992390394,
                    0.024156561121344566,
                    -0.06809860467910767,
                    0.0591154471039772,
                    -0.13695552945137024,
                    0.03565002605319023,
                    0.0002150946093024686,
                    -0.08153188228607178,
                    0.015545124188065529,
                    0.001836542272940278,
                    0.020852448418736458,
                    -0.03478459641337395,
                    -0.012901384383440018,
                    -0.052873626351356506,
                    -0.007835142314434052,
                    -0.011880973353981972,
                    -0.02400248497724533,
                    0.049379535019397736,
                    0.02558414824306965,
                    -0.024321338161826134,
                    -0.038898032158613205,
                    0.0038978466764092445,
                    -0.014744794927537441,
                    0.05739283934235573,
                    0.11823701113462448,
                    -0.010268371552228928,
                    -0.024861736223101616,
                    0.028592891991138458,
                    0.06968000531196594,
                    -0.0034181743394583464,
                    0.0297368373721838,
                    0.14655645191669464,
                    0.021188542246818542,
                    -0.05948557332158089,
                    0.004774830769747496,
                    -0.00013328898057807237,
                    -0.04978431761264801,
                    -0.011058449745178223,
                    0.05279349163174629,
                    0.03191576525568962,
                    0.015651144087314606,
                    0.07960537075996399,
                    0.020021552219986916,
                    -0.017393305897712708,
                    -0.015282471664249897,
                    -0.01359557919204235,
                    0.10524352639913559,
                    -0.0013341812882572412,
                    -0.025099024176597595,
                    -0.049016136676073074,
                    -0.058233704417943954,
                    -0.00286472518928349,
                    0.003855855669826269,
                    -0.016603920608758926,
                    -0.02863280288875103,
                    -0.03931298851966858,
                    -0.055585335940122604,
                    -0.011939067393541336,
                    0.09183236211538315,
                    -0.08733037114143372,
                    0.040222715586423874,
                    0.016018591821193695,
                    -0.009752517566084862,
                    0.0240920502692461,
                    0.0443984679877758,
                    -0.03170497342944145,
                    0.10529583692550659,
                    -0.015861881896853447,
                    -0.04038263484835625,
                    -0.0427706316113472,
                    -0.11140262335538864,
                    0.004016800317913294,
                    0.022966422140598297,
                    0.035710982978343964,
                    -0.014582350850105286,
                    -0.08224613219499588,
                    -0.08117810636758804,
                    -0.01863432116806507,
                    -0.03847404569387436,
                    0.05337213724851608,
                    0.03330742567777634,
                    -0.00473757041618228,
                    -0.08036192506551743,
                    0.028633467853069305,
                    -0.04876234754920006,
                    0.06448446959257126,
                    -0.08837828040122986,
                    0.13026271760463715,
                    -4.756493510171822e-8,
                    -0.01657813787460327,
                    0.01781807467341423,
                    0.012389810755848885,
                    -0.04430495202541351,
                    0.02390764094889164,
                    -0.0024852491915225983,
                    -0.006967352703213692,
                    -0.09715503454208374,
                    0.06346085667610168,
                    -0.061041075736284256,
                    -0.10627301782369614,
                    -0.05340408533811569,
                    -0.006255344022065401,
                    -0.043205875903367996,
                    0.08785579353570938,
                    -0.04005085304379463,
                    0.03197536617517471,
                    -0.07030655443668365,
                    0.010476776398718357,
                    0.0839170292019844,
                    0.0539073571562767,
                    0.0018935977714136243,
                    -0.03918122872710228,
                    -0.06538226455450058,
                    0.0033091946970671415,
                    -0.04088084399700165,
                    0.05332556739449501,
                    0.02402246557176113,
                    -0.060715802013874054,
                    0.03949771821498871,
                    0.041657693684101105,
                    -0.014799566008150578,
                    -0.040656790137290955,
                    -0.0211575236171484,
                    -0.09547644853591919,
                    0.09506192803382874,
                    0.01833476684987545,
                    0.03524560481309891,
                    -0.004592144396156073,
                    0.04474247619509697,
                    0.020130157470703125,
                    0.10543056577444077,
                    -0.03461989387869835,
                    0.02375919371843338,
                    0.04446274787187576,
                    -0.01967218518257141,
                    -0.04175760969519615,
                    0.0008107110043056309,
                    -0.056119997054338455,
                    -0.012779741548001766,
                    0.02571403793990612,
                    0.06440983712673187,
                    0.06402996927499771,
                    0.05404822528362274,
                    -0.019483361393213272,
                    -0.014406920410692692,
                    0.057913076132535934,
                    0.05702591687440872,
                    -0.03232993185520172,
                    0.018949102610349655,
                    -0.023744912818074226,
                    -0.03455624356865883,
                    0.0779426097869873,
                    -0.07073154300451279
                  ],
                  "fileName": "Elizabeth_I",
                  "id": "4b308ce4f75ccd815b4c31799fa07b0ec77ef583",
                  "label": "Chunk",
                  "length": 996,
                  "position": 3,
                  "text": ", the son of Mary, Queen of Scots. In government, Elizabeth was more moderate than her father and siblings had been. One of her mottoes was video et taceo (I see and keep silent). In religion, she was relatively tolerant and avoided systematic persecution. After the pope declared her illegitimate in 1570, which in theory released English Catholics from allegiance to her, several conspiracies threatened her life, all of which were defeated with the help of her ministers secret service, run by Sir Francis Walsingham. Elizabeth was cautious in foreign affairs, manoeuvring between the major powers of France and Spain. She half-heartedly supported a number of ineffective, poorly resourced military campaigns in the Netherlands, France, and Ireland. By the mid-1580s, England could no longer avoid war with Spain. As she grew older, Elizabeth became celebrated for her virginity. A cult of personality grew around her which was celebrated in the portraits, pageants, and literature of the day."
                },
                "scale_factor": 1,
                "size": [
                  55,
                  55
                ],
                "styles": {},
                "type": "#4CAF50"
              },
              {
                "color": "#4CAF50",
                "id": 4,
                "label": "def617d4f8c93b9d6326c2a0680669e6708dc276",
                "position": [
                  0,
                  0
                ],
                "properties": {
                  "content_offset": 2913,
                  "embedding": [
                    0.08384078741073608,
                    0.009670297615230083,
                    0.09077372401952744,
                    0.033975038677453995,
                    0.029752811416983604,
                    0.09899584949016571,
                    -0.013395462185144424,
                    0.01743091270327568,
                    -0.09054066240787506,
                    0.05290479212999344,
                    -0.10705059766769409,
                    0.04329093173146248,
                    0.06789908558130264,
                    -0.0400882214307785,
                    -0.05269933491945267,
                    0.048557016998529434,
                    -0.02366664819419384,
                    -0.018021924421191216,
                    -0.050900157541036606,
                    0.06649472564458847,
                    -0.018099600449204445,
                    -0.00835083331912756,
                    -0.057067159563302994,
                    0.061822496354579926,
                    -0.0685369223356247,
                    -0.048243045806884766,
                    -0.026286868378520012,
                    -0.0002557780244387686,
                    0.011117439717054367,
                    -0.02398938685655594,
                    -0.026624297723174095,
                    -0.08441032469272614,
                    0.06894341856241226,
                    0.01976490020751953,
                    -0.0433034747838974,
                    0.026619918644428253,
                    -0.0171840600669384,
                    0.0008937027887441218,
                    -0.05140489339828491,
                    -0.13846613466739655,
                    0.020546872168779373,
                    -0.011391893960535526,
                    -0.012932421639561653,
                    0.0207471065223217,
                    -0.020671145990490913,
                    -0.12021642923355103,
                    -0.041254784911870956,
                    0.030822213739156723,
                    0.004517260938882828,
                    -0.004754000809043646,
                    -0.02827046811580658,
                    0.009884241968393326,
                    -0.018883148208260536,
                    -0.07196040451526642,
                    -0.0059560672380030155,
                    0.017897486686706543,
                    -0.025663845241069794,
                    -0.009009324014186859,
                    0.08411262184381485,
                    -0.03869608789682388,
                    -0.019707683473825455,
                    0.07881806790828705,
                    0.046305689960718155,
                    -0.028948882594704628,
                    -0.05373639240860939,
                    0.0037203910760581493,
                    0.04666122421622276,
                    0.03013029508292675,
                    -0.024929383769631386,
                    0.10748275369405746,
                    -0.02685619704425335,
                    -0.07362380623817444,
                    0.08775647729635239,
                    0.03381204232573509,
                    -0.002057486679404974,
                    0.027879096567630768,
                    0.008434849791228771,
                    -0.04764360561966896,
                    -0.06536061316728592,
                    0.04173123091459274,
                    -0.022482139989733696,
                    -0.025905204936861992,
                    -0.018034562468528748,
                    0.04481123015284538,
                    0.025576220825314522,
                    -0.08344720304012299,
                    -0.04868251457810402,
                    -0.09177667647600174,
                    0.03425170108675957,
                    -0.06921395659446716,
                    -0.0721699446439743,
                    -0.07771454751491547,
                    0.045882679522037506,
                    0.08530333638191223,
                    0.04354451969265938,
                    0.03482525423169136,
                    0.02569686993956566,
                    -0.034865669906139374,
                    0.020518997684121132,
                    0.020784039050340652,
                    -0.010130919516086578,
                    0.0170405525714159,
                    -0.016745684668421745,
                    0.03474997356534004,
                    -0.0870899185538292,
                    0.017302900552749634,
                    0.03426331281661987,
                    -0.045428719371557236,
                    -0.03532018885016441,
                    -0.04779566451907158,
                    -0.01789521984755993,
                    -0.011148870922625065,
                    0.02401457168161869,
                    -0.003704913193359971,
                    0.06433109939098358,
                    -0.027903767302632332,
                    -0.07389432936906815,
                    0.009331752546131611,
                    -0.0475517101585865,
                    -0.03358757123351097,
                    0.14051225781440735,
                    0.06973209977149963,
                    0.05496332421898842,
                    -0.07079500705003738,
                    0.03478502482175827,
                    0.02657541073858738,
                    0.022336121648550034,
                    1.1900517463312676e-33,
                    -0.04045674577355385,
                    -0.03727801889181137,
                    -0.0362359918653965,
                    0.13086391985416412,
                    -0.004522979725152254,
                    0.06163011118769646,
                    -0.0019949795678257942,
                    0.043543919920921326,
                    0.027915867045521736,
                    -0.030734609812498093,
                    -0.02443527802824974,
                    0.003470868105068803,
                    -0.023815426975488663,
                    -0.13357216119766235,
                    -0.022939391434192657,
                    0.07118584215641022,
                    0.055983249098062515,
                    -0.02034086547791958,
                    0.05431334301829338,
                    0.01440477930009365,
                    -0.0382295586168766,
                    0.0026163035072386265,
                    0.057457759976387024,
                    -0.010385490953922272,
                    -0.047427259385585785,
                    -0.028509628027677536,
                    0.11762291193008423,
                    0.014500250108540058,
                    0.014003441669046879,
                    0.02686014212667942,
                    0.028089523315429688,
                    -0.01676912233233452,
                    -0.04508782923221588,
                    -0.040928348898887634,
                    0.06871449947357178,
                    -0.04624171927571297,
                    -0.01632891781628132,
                    -0.03604184091091156,
                    0.03451249375939369,
                    0.13559511303901672,
                    -0.11396119743585587,
                    0.011878589168190956,
                    0.06536196172237396,
                    0.018336690962314606,
                    -0.07610266655683517,
                    -0.002282563364133239,
                    0.07765991985797882,
                    0.052560362964868546,
                    -0.007798251695930958,
                    0.004398805554956198,
                    0.038355544209480286,
                    -0.10875032842159271,
                    0.03164920210838318,
                    -0.03366436809301376,
                    -0.0002208447112934664,
                    0.069890096783638,
                    -0.020384667441248894,
                    0.007990282028913498,
                    -0.01802280731499195,
                    -0.018833041191101074,
                    0.06893525272607803,
                    -0.059453126043081284,
                    0.06867976486682892,
                    0.01018781028687954,
                    -0.0002930107875727117,
                    0.06197464466094971,
                    -0.03919393569231033,
                    -0.009586995467543602,
                    -0.02460525929927826,
                    -0.009567469358444214,
                    0.0047085098922252655,
                    0.09253288805484772,
                    -0.019097084179520607,
                    0.009131846018135548,
                    0.017608026042580605,
                    0.03909393027424812,
                    0.05596631392836571,
                    -0.043386612087488174,
                    -0.025909708812832832,
                    0.02197893150150776,
                    -0.00543570751324296,
                    -0.006611904129385948,
                    -0.01997196301817894,
                    0.009665841236710548,
                    0.03697240352630615,
                    -0.07413041591644287,
                    0.01700374111533165,
                    -0.06532791256904602,
                    0.06957998126745224,
                    0.09892579913139343,
                    0.03515976667404175,
                    -0.08598645776510239,
                    0.0551801361143589,
                    -0.06592182070016861,
                    -0.06302040815353394,
                    -1.8367745753491195e-33,
                    -0.029714085161685944,
                    -0.004439441952854395,
                    0.043526627123355865,
                    0.08319611847400665,
                    0.060649119317531586,
                    -0.059324756264686584,
                    -0.04617898166179657,
                    0.04633853957056999,
                    0.018699591979384422,
                    -0.05250345543026924,
                    0.019269408658146858,
                    -0.01865200512111187,
                    0.05454159155488014,
                    -0.04018913954496384,
                    -0.03435267508029938,
                    0.0027806819416582584,
                    0.04085017740726471,
                    -0.056585732847452164,
                    -0.0015813851496204734,
                    -0.05674988403916359,
                    -0.018879571929574013,
                    -0.028499722480773926,
                    -0.04733550548553467,
                    -0.1373913437128067,
                    0.04093903303146362,
                    0.06738666445016861,
                    -0.10257156938314438,
                    -0.04141591116786003,
                    -0.04082682356238365,
                    0.048928577452898026,
                    0.0480860099196434,
                    0.09446635842323303,
                    -0.009193036705255508,
                    -0.06672700494527817,
                    -0.0016458149766549468,
                    0.07080656290054321,
                    -0.05893396958708763,
                    -0.09439316391944885,
                    0.09162992238998413,
                    0.020095014944672585,
                    -0.023165419697761536,
                    -0.04212476313114166,
                    0.05792160704731941,
                    -0.04531125724315643,
                    0.02390563115477562,
                    0.011136745102703571,
                    0.0024222228676080704,
                    0.028025930747389793,
                    0.13848213851451874,
                    0.03094698302447796,
                    -0.022971510887145996,
                    -0.0070055522955954075,
                    0.03882431238889694,
                    0.0703016147017479,
                    0.06759229302406311,
                    -0.04860392585396767,
                    0.030823180451989174,
                    -0.01536016259342432,
                    -0.008779392577707767,
                    0.018788443878293037,
                    0.004756106063723564,
                    -0.0706276223063469,
                    -0.02924109436571598,
                    -0.007314336486160755,
                    -0.002588787581771612,
                    0.035867851227521896,
                    0.00596286216750741,
                    -0.04338233172893524,
                    -0.06280551850795746,
                    -0.0005248231464065611,
                    0.01835278607904911,
                    -0.01982366293668747,
                    -0.04980985447764397,
                    0.0771436095237732,
                    -0.03223476558923721,
                    0.05515936017036438,
                    -0.058174870908260345,
                    -0.05332256853580475,
                    -0.036340609192848206,
                    0.007748218718916178,
                    -0.04223654419183731,
                    -0.015163020230829716,
                    -0.050833750516176224,
                    -0.11154107749462128,
                    -0.07392077893018723,
                    0.0462360605597496,
                    0.0034003721084445715,
                    0.03994552418589592,
                    -0.0026915569324046373,
                    -0.03651050105690956,
                    0.07009181380271912,
                    -0.06703067570924759,
                    0.0019258327083662152,
                    -0.0876859650015831,
                    0.10779163241386414,
                    -4.737247039088288e-8,
                    -0.06913837790489197,
                    -0.010429834015667439,
                    -0.02447321265935898,
                    -0.05911121144890785,
                    -0.04364161193370819,
                    0.07426134496927261,
                    -0.020060742273926735,
                    0.013001635670661926,
                    0.05788635089993477,
                    0.026086386293172836,
                    -0.059832651168107986,
                    -0.008970164693892002,
                    0.03228669613599777,
                    -0.05351189523935318,
                    0.0491797961294651,
                    0.019082849845290184,
                    0.07090199738740921,
                    -0.036421749740839005,
                    -0.013662224635481834,
                    0.021318143233656883,
                    0.07656270265579224,
                    -0.009269597008824348,
                    -0.02435670793056488,
                    -0.049495190382003784,
                    -0.10125210136175156,
                    -0.05107681453227997,
                    -0.010335540398955345,
                    -0.014163213782012463,
                    -0.06269437819719315,
                    -0.009874989278614521,
                    0.03196394816040993,
                    0.027737298980355263,
                    0.014056287705898285,
                    -0.0664513111114502,
                    -0.0281707514077425,
                    0.058466702699661255,
                    0.029250754043459892,
                    -0.011700439266860485,
                    -0.025525100529193878,
                    0.07178349047899246,
                    0.05253041535615921,
                    0.12644045054912567,
                    -0.01431075669825077,
                    0.029636282473802567,
                    0.030895503237843513,
                    -0.027515672147274017,
                    -0.019794829189777374,
                    0.13163506984710693,
                    -0.04695399850606918,
                    -0.03260505944490433,
                    0.04871170222759247,
                    -0.04520308971405029,
                    0.040999338030815125,
                    0.04454146698117256,
                    0.020987384021282196,
                    -0.03379238769412041,
                    0.027956869453191757,
                    0.0917404443025589,
                    -0.054815176874399185,
                    0.06419933587312698,
                    0.020557010546326637,
                    -0.01008937880396843,
                    0.026621993631124496,
                    -0.049300458282232285
                  ],
                  "fileName": "Elizabeth_I",
                  "id": "def617d4f8c93b9d6326c2a0680669e6708dc276",
                  "label": "Chunk",
                  "length": 1013,
                  "position": 4,
                  "text": " personality grew around her which was celebrated in the portraits, pageants, and literature of the day. Elizabeths reign became known as the Elizabethan era. The period is famous for the flourishing of English drama, led by playwrights such as William Shakespeare and Christopher Marlowe, the prowess of English maritime adventurers, such as Francis Drake and Walter Raleigh, and for the defeat of the Spanish Armada. Some historians depict Elizabeth as a short-tempered, sometimes indecisive ruler, who enjoyed more than her fair share of luck. Towards the end of her reign, a series of economic and military problems weakened her popularity. Elizabeth is acknowledged as a charismatic performer (Gloriana) and a dogged survivor (Good Queen Bess) in an era when government was ramshackle and limited, and when monarchs in neighbouring countries faced internal problems that jeopardised their thrones. After the short, disastrous reigns of her half-siblings, her 44 years on the throne provided welcome stability"
                },
                "scale_factor": 1,
                "size": [
                  55,
                  55
                ],
                "styles": {},
                "type": "#4CAF50"
              },
              {
                "color": "#4CAF50",
                "id": 5,
                "label": "9025b3eeac94fc9c314f52b96ae8feb99b4a5dbb",
                "position": [
                  0,
                  0
                ],
                "properties": {
                  "content_offset": 3926,
                  "embedding": [
                    0.014298416674137115,
                    -0.04153724014759064,
                    0.02502460405230522,
                    0.036238569766283035,
                    0.019773295149207115,
                    -0.0033719304483383894,
                    -0.016778912395238876,
                    -0.01876293309032917,
                    -0.08510561287403107,
                    -0.03953276202082634,
                    -0.034296195954084396,
                    -0.03164229169487953,
                    0.024184897541999817,
                    -0.07029873132705688,
                    -0.020288946107029915,
                    0.06901422888040543,
                    -0.011704004369676113,
                    0.0004294560058042407,
                    -0.04602489247918129,
                    -0.019897758960723877,
                    0.02696029096841812,
                    -0.07010428607463837,
                    0.07180424779653549,
                    0.10825299471616745,
                    -0.06001752242445946,
                    0.05873210355639458,
                    -0.007600514683872461,
                    0.04765843227505684,
                    -0.024319976568222046,
                    -0.0012619530316442251,
                    -0.05354926362633705,
                    -0.0724027007818222,
                    0.003292395966127515,
                    0.04341612756252289,
                    -0.026863351464271545,
                    -0.005746586248278618,
                    0.009525814093649387,
                    0.10927268117666245,
                    0.036110904067754745,
                    -0.07975973933935165,
                    -0.019075516611337662,
                    -0.09239597618579865,
                    0.045692265033721924,
                    -0.015427553094923496,
                    -0.018363166600465775,
                    0.022059906274080276,
                    0.04882228747010231,
                    0.050843093544244766,
                    -0.004383002407848835,
                    0.05002911016345024,
                    0.012937125749886036,
                    0.07290426641702652,
                    0.010121661238372326,
                    -0.08424315601587296,
                    0.029393460601568222,
                    0.12322655320167542,
                    -0.014913076534867287,
                    -0.015980053693056107,
                    0.017997663468122482,
                    -0.0015541566535830498,
                    -0.03317461535334587,
                    0.06014661118388176,
                    -0.02357557602226734,
                    -0.015002422966063023,
                    -0.059349678456783295,
                    0.013726843520998955,
                    0.07511899620294571,
                    -0.09873145073652267,
                    0.000851758464705199,
                    -0.06669184565544128,
                    0.006701931357383728,
                    0.02194266766309738,
                    0.10246358066797256,
                    -0.01381637342274189,
                    0.0102823032066226,
                    0.0842449963092804,
                    0.002469696570187807,
                    0.060195259749889374,
                    -0.11109000444412231,
                    -0.01090114563703537,
                    -0.04968789219856262,
                    0.004077330697327852,
                    0.10104888677597046,
                    0.08714873343706131,
                    0.015367505140602589,
                    -0.01699237897992134,
                    -0.027924586087465286,
                    -0.051363978534936905,
                    -0.05047595873475075,
                    -0.05364156886935234,
                    0.006694141309708357,
                    -0.10178451985120773,
                    0.022516004741191864,
                    0.07947775721549988,
                    0.05186682567000389,
                    0.015849974006414413,
                    0.022788530215620995,
                    -0.015035511925816536,
                    0.02388221211731434,
                    -0.03431633487343788,
                    -0.07801322638988495,
                    -0.03740908205509186,
                    -0.0031708029564470053,
                    0.1530592143535614,
                    -0.07754901051521301,
                    0.006155088543891907,
                    -0.025258593261241913,
                    -0.06295254081487656,
                    -0.021557072177529335,
                    0.012392483651638031,
                    0.017349181696772575,
                    0.01270171906799078,
                    0.0038189711049199104,
                    0.007312214933335781,
                    0.05011232942342758,
                    0.03388162702322006,
                    0.031989648938179016,
                    0.015307056717574596,
                    0.04205368086695671,
                    -0.05525021627545357,
                    0.021387174725532532,
                    0.035777874290943146,
                    0.00038624127046205103,
                    -0.05332685261964798,
                    -0.04850003123283386,
                    -0.021033264696598053,
                    0.020310837775468826,
                    2.9747633095404834e-33,
                    -0.09288942813873291,
                    0.005882158875465393,
                    0.043744754046201706,
                    0.07889165729284286,
                    -0.035330552607774734,
                    0.0411977618932724,
                    0.0039247432723641396,
                    0.0410689078271389,
                    0.0654287338256836,
                    -0.05199447646737099,
                    -0.03195783123373985,
                    -0.13092230260372162,
                    0.07833243906497955,
                    -0.200180783867836,
                    -0.02242222987115383,
                    0.08070863038301468,
                    -0.018841588869690895,
                    0.010236377827823162,
                    0.07427141070365906,
                    0.076209157705307,
                    -0.01703779213130474,
                    0.0277008805423975,
                    0.034291233867406845,
                    0.00414825975894928,
                    -0.04119380936026573,
                    -0.017303137108683586,
                    0.06748580932617188,
                    -0.03395377844572067,
                    0.01229606382548809,
                    0.006003696005791426,
                    0.050342857837677,
                    -0.05992633476853371,
                    0.01616692915558815,
                    -0.06921493262052536,
                    -0.036902472376823425,
                    -0.014725202694535255,
                    0.015648426488041878,
                    -0.06389310210943222,
                    0.012511808425188065,
                    0.02129211090505123,
                    -0.019947268068790436,
                    -0.020355109125375748,
                    0.1184510737657547,
                    -0.035537052899599075,
                    -0.05942488834261894,
                    -0.032878778874874115,
                    0.03363984078168869,
                    -0.025839654728770256,
                    0.033447712659835815,
                    0.011336629278957844,
                    0.04118875041604042,
                    -0.08555325865745544,
                    -0.1116233617067337,
                    -0.03146124631166458,
                    -0.024569636210799217,
                    0.06581319123506546,
                    -0.010136677883565426,
                    -0.029975006356835365,
                    0.0025885452050715685,
                    0.035372789949178696,
                    0.056387048214673996,
                    -0.06262911111116409,
                    0.02785632386803627,
                    0.048705749213695526,
                    -0.041257813572883606,
                    -0.003202898195013404,
                    -0.002672972157597542,
                    0.02179296687245369,
                    -0.01752558909356594,
                    -0.015582490712404251,
                    0.03578832000494003,
                    0.025646258145570755,
                    -0.019817441701889038,
                    -0.05754033848643303,
                    -0.01396001037210226,
                    0.025226693600416183,
                    0.10292720794677734,
                    -0.05458313971757889,
                    0.015835624188184738,
                    0.02193167805671692,
                    0.000162465512403287,
                    0.10849452018737793,
                    0.07363823056221008,
                    0.010378876700997353,
                    0.026654183864593506,
                    -0.10572393983602524,
                    -0.06076781079173088,
                    0.030100051313638687,
                    0.005530813708901405,
                    0.06686809659004211,
                    -0.015433254651725292,
                    -0.025905823335051537,
                    0.03692503273487091,
                    -0.042642273008823395,
                    -0.03501293063163757,
                    -3.790788916487423e-33,
                    -0.03999485448002815,
                    -0.03228861838579178,
                    0.1037881001830101,
                    0.034201137721538544,
                    -0.01874576508998871,
                    -0.07237384468317032,
                    -0.047363847494125366,
                    0.02553817816078663,
                    -0.02479628473520279,
                    -0.03868722543120384,
                    0.042664460837841034,
                    0.03547866269946098,
                    0.03827442228794098,
                    -0.03840881958603859,
                    -0.0393374003469944,
                    0.04070493206381798,
                    0.010405472479760647,
                    -0.029607364907860756,
                    0.0454818494617939,
                    0.04930207505822182,
                    0.03766300156712532,
                    -0.06316262483596802,
                    -0.09337828308343887,
                    -0.08337893337011337,
                    0.05127507075667381,
                    -0.005966085009276867,
                    -0.06389590352773666,
                    0.05018692836165428,
                    0.06024977192282677,
                    -0.003790584160014987,
                    -0.07718335092067719,
                    0.052011020481586456,
                    0.0175800658762455,
                    -0.03914526849985123,
                    0.0889611765742302,
                    -0.0022497971076518297,
                    -0.030290717259049416,
                    -0.006769550032913685,
                    0.08172938972711563,
                    0.019253304228186607,
                    -0.09786129742860794,
                    -0.004938391037285328,
                    -0.004971764981746674,
                    -0.013809392228722572,
                    0.03276224434375763,
                    0.0159897543489933,
                    0.005804071202874184,
                    0.013629348948597908,
                    0.10475371778011322,
                    0.04519731551408768,
                    -0.021066932007670403,
                    -0.03165769577026367,
                    -0.0006729359738528728,
                    0.012545755133032799,
                    0.03146018460392952,
                    0.005595725495368242,
                    0.004787056241184473,
                    0.02048955298960209,
                    0.08182471245527267,
                    0.029843511059880257,
                    -0.014533990062773228,
                    -0.012749901972711086,
                    -0.05136759579181671,
                    -0.0022452708799391985,
                    -0.09630972146987915,
                    0.04913337528705597,
                    -0.022403988987207413,
                    -0.0032757800072431564,
                    -0.07876177132129669,
                    -0.02842625044286251,
                    -0.00582243874669075,
                    -0.008653482422232628,
                    0.017482930794358253,
                    0.05167173966765404,
                    -0.07438605278730392,
                    -0.10228805243968964,
                    0.019498882815241814,
                    0.0021988062653690577,
                    -0.040756624191999435,
                    0.04344604164361954,
                    -0.017890503630042076,
                    0.0445217490196228,
                    -0.017795603722333908,
                    -0.11657027900218964,
                    -0.06230752915143967,
                    -0.06091880798339844,
                    0.07138804346323013,
                    0.04002353921532631,
                    0.007050912827253342,
                    -0.16244357824325562,
                    0.049493905156850815,
                    -0.011080668307840824,
                    0.007824844680726528,
                    -0.09075967222452164,
                    0.07734117656946182,
                    -3.969425321770359e-8,
                    0.011578656733036041,
                    -0.021672826260328293,
                    0.06862519681453705,
                    -0.03143703565001488,
                    -0.05691838636994362,
                    0.0035926371347159147,
                    0.05045854672789574,
                    0.09893425554037094,
                    0.02786613069474697,
                    -0.07859723269939423,
                    -0.08734291791915894,
                    0.006522465962916613,
                    0.012437185272574425,
                    -0.0011216194834560156,
                    0.0731787160038948,
                    -0.022718317806720734,
                    0.007348532322794199,
                    -0.07641960680484772,
                    0.06481951475143433,
                    0.05145134776830673,
                    0.03918226808309555,
                    -0.04355722293257713,
                    0.05385813117027283,
                    0.011518687941133976,
                    -0.05128725245594978,
                    -0.08236716687679291,
                    0.08796770870685577,
                    -0.04416244477033615,
                    -0.05494184046983719,
                    -0.08255159854888916,
                    0.006464843172580004,
                    0.012679477222263813,
                    0.009797963313758373,
                    0.0004968495341017842,
                    -0.026158267632126808,
                    -0.008732029236853123,
                    0.04160181060433388,
                    0.047427915036678314,
                    -0.07132630050182343,
                    -0.004942411556839943,
                    0.016842329874634743,
                    0.06406726688146591,
                    -0.03663583844900131,
                    -0.005133002530783415,
                    0.11660605669021606,
                    -0.03329524025321007,
                    -0.06752042472362518,
                    0.038394179195165634,
                    0.005635751411318779,
                    -0.0538024976849556,
                    -0.015262559056282043,
                    0.05647135153412819,
                    0.045328572392463684,
                    0.005042713135480881,
                    0.02820885367691517,
                    -0.03289160877466202,
                    0.001750733470544219,
                    0.02360323630273342,
                    0.0022212823387235403,
                    0.09504173696041107,
                    -0.03345365822315216,
                    0.0540061816573143,
                    0.07801492512226105,
                    -0.024874042719602585
                  ],
                  "fileName": "Elizabeth_I",
                  "id": "9025b3eeac94fc9c314f52b96ae8feb99b4a5dbb",
                  "label": "Chunk",
                  "length": 448,
                  "position": 5,
                  "text": ", disastrous reigns of her half-siblings, her 44 years on the throne provided welcome stability for the kingdom and helped to forge a sense of national identity.  Elizabeth was born at Greenwich Palace on 7 September 1533 and was named after her grandmothers, Elizabeth of York and Lady Elizabeth Howard. She was the second child of Henry VIII of England born in wedlock to survive infancy. Her mother was Henrys second wife, Anne Boleyn. At birth,"
                },
                "scale_factor": 1,
                "size": [
                  55,
                  55
                ],
                "styles": {},
                "type": "#4CAF50"
              }
            ],
            "_overview": {
              "enabled": null,
              "overview_set": false
            },
            "_selected_graph": [
              [],
              []
            ],
            "_sidebar": {
              "enabled": true,
              "start_with": ""
            },
            "_view_count": null,
            "_view_module": "yfiles-jupyter-graphs",
            "_view_module_version": "^1.7.3",
            "_view_name": "GraphView",
            "layout": "IPY_MODEL_e1451c146122460ca57738189a9b6e86",
            "tabbable": null,
            "tooltip": null
          }
        },
        "e1451c146122460ca57738189a9b6e86": {
          "model_module": "@jupyter-widgets/base",
          "model_module_version": "2.0.0",
          "model_name": "LayoutModel",
          "state": {
            "_model_module": "@jupyter-widgets/base",
            "_model_module_version": "2.0.0",
            "_model_name": "LayoutModel",
            "_view_count": null,
            "_view_module": "@jupyter-widgets/base",
            "_view_module_version": "2.0.0",
            "_view_name": "LayoutView",
            "align_content": null,
            "align_items": null,
            "align_self": null,
            "border_bottom": null,
            "border_left": null,
            "border_right": null,
            "border_top": null,
            "bottom": null,
            "display": null,
            "flex": null,
            "flex_flow": null,
            "grid_area": null,
            "grid_auto_columns": null,
            "grid_auto_flow": null,
            "grid_auto_rows": null,
            "grid_column": null,
            "grid_gap": null,
            "grid_row": null,
            "grid_template_areas": null,
            "grid_template_columns": null,
            "grid_template_rows": null,
            "height": "690px",
            "justify_content": null,
            "justify_items": null,
            "left": null,
            "margin": null,
            "max_height": null,
            "max_width": null,
            "min_height": null,
            "min_width": null,
            "object_fit": null,
            "object_position": null,
            "order": null,
            "overflow": null,
            "padding": null,
            "right": null,
            "top": null,
            "visibility": null,
            "width": "100%"
          }
        }
      }
    }
  },
  "nbformat": 4,
  "nbformat_minor": 0
}
